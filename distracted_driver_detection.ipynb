{
 "cells": [
  {
   "cell_type": "markdown",
   "metadata": {},
   "source": [
    "# Udacity Machine Learning Capstone Project\n",
    "\n",
    "## State Farm Distracted Driver Detection (Can computer vision spot distracted drivers?)\n",
    "\n",
    "---\n",
    "### The Road Ahead\n",
    "\n",
    "We break the notebook into separate steps.  Feel free to use the links below to navigate the notebook.\n",
    "\n",
    "* [Step 0](#step0): Import Datasets\n",
    "* [Step 1](#step1): Data Analysis and Preprocessing\n",
    "* [Step 2](#step2): Create a CNN to classify driver images (from scratch)\n",
    "* [Step 3](#step3): Use a CNN to classify driver images (using transfer learning)\n",
    "* [Step 4](#step4): Create a CNN to classify driver images (using transfer learning)\n",
    "* [Step 5](#step5): Algorithm test result\n",
    "\n",
    "---\n",
    "<a id='step0'></a>\n",
    "## Step 0: Import Datasets\n",
    "\n",
    "### Import Driver Image Dataset\n",
    "\n",
    "In the code cell below, we import a dataset of driver images. We populate a few variables through the use of the `load_files` function from the scikit-learn library:\n",
    "- `train_files`, `valid_files`, `test_files` - numpy arrays containing file paths to images\n",
    "- `train_targets`, `valid_targets`, `test_targets` - numpy arrays containing onehot-encoded classification labels \n",
    "- `label_names` - list of string-valued label codes of driver behaviors for translating labels :\n",
    "\n",
    "    * c0: normal driving\n",
    "    * c1: texting - right\n",
    "    * c2: talking on the phone - right\n",
    "    * c3: texting - left\n",
    "    * c4: talking on the phone - left\n",
    "    * c5: operating the radio\n",
    "    * c6: drinking\n",
    "    * c7: reaching behind\n",
    "    * c8: hair and makeup\n",
    "    * c9: talking to passenger"
   ]
  },
  {
   "cell_type": "code",
   "execution_count": 1,
   "metadata": {
    "collapsed": false
   },
   "outputs": [
    {
     "name": "stderr",
     "output_type": "stream",
     "text": [
      "Using TensorFlow backend.\n"
     ]
    },
    {
     "name": "stdout",
     "output_type": "stream",
     "text": [
      "There are 102150 total driver images provided by State Farm:\n",
      "22424 train driver images\n",
      "79726 test driver images\n",
      "\n",
      "There are 10 total driver behavior categories.\n",
      "\n",
      "To avoid running out of memory,\n",
      "we select 224 images from original train set\n",
      "and ignore the remaining 22200 images.\n",
      "\n",
      "Among the 224 randomly selected images,\n",
      "we use 179 images for training and\n",
      "we use 45 images for validation.\n"
     ]
    }
   ],
   "source": [
    "from sklearn.datasets import load_files       \n",
    "from keras.utils import np_utils\n",
    "import numpy as np\n",
    "from glob import glob\n",
    "from sklearn.cross_validation import train_test_split\n",
    "\n",
    "# define function to load train and test image datasets provided by State Farm\n",
    "def load_dataset(path):\n",
    "    data = load_files(path)\n",
    "    driver_files = np.array(data['filenames'])\n",
    "    driver_targets = np_utils.to_categorical(np.array(data['target']), 10)\n",
    "    return driver_files, driver_targets\n",
    "\n",
    "# load original train and test datasets provided by State Farm\n",
    "train_files, train_targets = load_dataset('imgs/train')\n",
    "test_files, test_targets = load_dataset('imgs/test')\n",
    "\n",
    "print('There are %s total driver images provided by State Farm:' % len(np.hstack([train_files, test_files])))\n",
    "print('%d train driver images' % len(train_files))\n",
    "print('%d test driver images\\n' % len(test_files))\n",
    "\n",
    "# load list of label codes of driver behaviors\n",
    "label_names = [item[11:13] for item in sorted(glob(\"imgs/train/*/\"))]\n",
    "\n",
    "print('There are %d total driver behavior categories.\\n' % len(label_names))\n",
    "\n",
    "# Since the number of driver images in original train data set provided by State Farm is too large, for avoidance of \n",
    "# running out of computer memory when we transform them into tensors to feed and train the CNN models, \n",
    "# we randomly sample a particular ratio (0.5) of them to use, and ignore the remaining portion (ratio 0.5).\n",
    "use_files, non_use_files, use_targets, non_use_targets = \\\n",
    "            train_test_split(train_files, train_targets, test_size=0.99, random_state=5)\n",
    "\n",
    "print('To avoid running out of memory,')\n",
    "print('we select %s images from original train set' % len(use_files))\n",
    "print('and ignore the remaining %s images.\\n' % len(non_use_files))\n",
    "\n",
    "# shuffle and split the sampled \"use\" dataset into training set and validation set\n",
    "train_files, valid_files, train_targets, valid_targets = \\\n",
    "            train_test_split(use_files, use_targets, test_size=0.2, random_state=5)\n",
    "\n",
    "print('Among the %s randomly selected images,' % len(use_files))\n",
    "print('we use %d images for training and' % len(train_files))\n",
    "print('we use %d images for validation.' % len(valid_files))"
   ]
  },
  {
   "cell_type": "code",
   "execution_count": 4,
   "metadata": {
    "collapsed": false
   },
   "outputs": [],
   "source": [
    "test_image_filename_list = [test_file_path[15:] for test_file_path in test_files]"
   ]
  },
  {
   "cell_type": "markdown",
   "metadata": {},
   "source": [
    "---\n",
    "<a id='step1'></a>\n",
    "## Step 1: Data Analysis and Preprocessing\n",
    "\n",
    "### Data Analysis\n",
    "\n",
    "In the code cells below, we read the **driver_imgs_list.csv** file provided by State Farm. This csv file is a list of original training images, their subject (driver id), and classname (label id). We then analyze this original train data set. There is just a little bit size imbalance between different classes. Note that class 'c0' has the maximum number of 2489 images and class 'c8' has the minimum number of 1911 images among all the 10 classes."
   ]
  },
  {
   "cell_type": "code",
   "execution_count": 5,
   "metadata": {
    "collapsed": false
   },
   "outputs": [
    {
     "data": {
      "text/html": [
       "<div>\n",
       "<table border=\"1\" class=\"dataframe\">\n",
       "  <thead>\n",
       "    <tr style=\"text-align: right;\">\n",
       "      <th></th>\n",
       "      <th>subject</th>\n",
       "      <th>classname</th>\n",
       "      <th>img</th>\n",
       "    </tr>\n",
       "  </thead>\n",
       "  <tbody>\n",
       "    <tr>\n",
       "      <th>0</th>\n",
       "      <td>p002</td>\n",
       "      <td>c0</td>\n",
       "      <td>img_44733.jpg</td>\n",
       "    </tr>\n",
       "    <tr>\n",
       "      <th>1</th>\n",
       "      <td>p002</td>\n",
       "      <td>c0</td>\n",
       "      <td>img_72999.jpg</td>\n",
       "    </tr>\n",
       "    <tr>\n",
       "      <th>2</th>\n",
       "      <td>p002</td>\n",
       "      <td>c0</td>\n",
       "      <td>img_25094.jpg</td>\n",
       "    </tr>\n",
       "    <tr>\n",
       "      <th>3</th>\n",
       "      <td>p002</td>\n",
       "      <td>c0</td>\n",
       "      <td>img_69092.jpg</td>\n",
       "    </tr>\n",
       "    <tr>\n",
       "      <th>4</th>\n",
       "      <td>p002</td>\n",
       "      <td>c0</td>\n",
       "      <td>img_92629.jpg</td>\n",
       "    </tr>\n",
       "  </tbody>\n",
       "</table>\n",
       "</div>"
      ],
      "text/plain": [
       "  subject classname            img\n",
       "0    p002        c0  img_44733.jpg\n",
       "1    p002        c0  img_72999.jpg\n",
       "2    p002        c0  img_25094.jpg\n",
       "3    p002        c0  img_69092.jpg\n",
       "4    p002        c0  img_92629.jpg"
      ]
     },
     "metadata": {},
     "output_type": "display_data"
    }
   ],
   "source": [
    "import matplotlib.pyplot as plt\n",
    "%matplotlib inline\n",
    "\n",
    "import pandas as pd\n",
    "from IPython.display import display\n",
    "\n",
    "training_images_df = pd.read_csv(\"driver_imgs_list.csv\")\n",
    "display(training_images_df.head())"
   ]
  },
  {
   "cell_type": "code",
   "execution_count": 6,
   "metadata": {
    "collapsed": false
   },
   "outputs": [
    {
     "data": {
      "text/html": [
       "<div>\n",
       "<table border=\"1\" class=\"dataframe\">\n",
       "  <thead>\n",
       "    <tr style=\"text-align: right;\">\n",
       "      <th></th>\n",
       "      <th>subject</th>\n",
       "      <th>classname</th>\n",
       "      <th>img</th>\n",
       "    </tr>\n",
       "  </thead>\n",
       "  <tbody>\n",
       "    <tr>\n",
       "      <th>count</th>\n",
       "      <td>22424</td>\n",
       "      <td>22424</td>\n",
       "      <td>22424</td>\n",
       "    </tr>\n",
       "    <tr>\n",
       "      <th>unique</th>\n",
       "      <td>26</td>\n",
       "      <td>10</td>\n",
       "      <td>22424</td>\n",
       "    </tr>\n",
       "    <tr>\n",
       "      <th>top</th>\n",
       "      <td>p021</td>\n",
       "      <td>c0</td>\n",
       "      <td>img_36540.jpg</td>\n",
       "    </tr>\n",
       "    <tr>\n",
       "      <th>freq</th>\n",
       "      <td>1237</td>\n",
       "      <td>2489</td>\n",
       "      <td>1</td>\n",
       "    </tr>\n",
       "  </tbody>\n",
       "</table>\n",
       "</div>"
      ],
      "text/plain": [
       "       subject classname            img\n",
       "count    22424     22424          22424\n",
       "unique      26        10          22424\n",
       "top       p021        c0  img_36540.jpg\n",
       "freq      1237      2489              1"
      ]
     },
     "metadata": {},
     "output_type": "display_data"
    }
   ],
   "source": [
    "display(training_images_df.describe())"
   ]
  },
  {
   "cell_type": "code",
   "execution_count": 7,
   "metadata": {
    "collapsed": false
   },
   "outputs": [
    {
     "name": "stdout",
     "output_type": "stream",
     "text": [
      "c0    2489\n",
      "c3    2346\n",
      "c4    2326\n",
      "c6    2325\n",
      "c2    2317\n",
      "c5    2312\n",
      "c1    2267\n",
      "c9    2129\n",
      "c7    2002\n",
      "c8    1911\n",
      "Name: classname, dtype: int64\n"
     ]
    }
   ],
   "source": [
    "print(training_images_df['classname'].value_counts(sort=True))"
   ]
  },
  {
   "cell_type": "markdown",
   "metadata": {},
   "source": [
    "### Data Preprocessing\n",
    "\n",
    "When using TensorFlow as backend, Keras CNNs require a 4D array (which we'll also refer to as a 4D tensor) as input, with shape\n",
    "\n",
    "$$\n",
    "(\\text{nb_samples}, \\text{rows}, \\text{columns}, \\text{channels}),\n",
    "$$\n",
    "\n",
    "where `nb_samples` corresponds to the total number of images (or samples), and `rows`, `columns`, and `channels` correspond to the number of rows, columns, and channels for each image, respectively.  \n",
    "\n",
    "The `path_to_tensor` function below takes a string-valued file path to a color image as input and returns a 4D tensor suitable for supplying to a Keras CNN.  The function first loads the image and resizes it to a square image that is $112 \\times 112$ pixels.  Next, the image is converted to an array, which is then resized to a 4D tensor.  In this case, since we are working with color images, each image has three channels.  Likewise, since we are processing a single image (or sample), the returned tensor will always have shape\n",
    "\n",
    "$$\n",
    "(1, 112, 112, 3).\n",
    "$$\n",
    "\n",
    "The `paths_to_tensor` function takes a numpy array of string-valued image paths as input and returns a 4D tensor with shape \n",
    "\n",
    "$$\n",
    "(\\text{nb_samples}, 112, 112, 3).\n",
    "$$\n",
    "\n",
    "Here, `nb_samples` is the number of samples, or number of images, in the supplied array of image paths.  It is best to think of `nb_samples` as the number of 3D tensors (where each 3D tensor corresponds to a different image) in your dataset!"
   ]
  },
  {
   "cell_type": "code",
   "execution_count": 8,
   "metadata": {
    "collapsed": true
   },
   "outputs": [],
   "source": [
    "from keras.preprocessing import image                  \n",
    "from tqdm import tqdm\n",
    "\n",
    "def path_to_tensor(img_path):\n",
    "    # loads RGB image as PIL.Image.Image type\n",
    "    img = image.load_img(img_path, target_size=(112, 112))\n",
    "    # convert PIL.Image.Image type to 3D tensor with shape (112, 112, 3)\n",
    "    x = image.img_to_array(img)\n",
    "    # convert 3D tensor to 4D tensor with shape (1, 112, 112, 3) and return 4D tensor\n",
    "    return np.expand_dims(x, axis=0)\n",
    "\n",
    "def paths_to_tensor(img_paths):\n",
    "    list_of_tensors = [path_to_tensor(img_path) for img_path in tqdm(img_paths)]\n",
    "    return np.vstack(list_of_tensors)"
   ]
  },
  {
   "cell_type": "markdown",
   "metadata": {},
   "source": [
    "In the code cell below, we rescale the images by dividing every pixel in every image by 255."
   ]
  },
  {
   "cell_type": "code",
   "execution_count": 9,
   "metadata": {
    "collapsed": false
   },
   "outputs": [
    {
     "name": "stderr",
     "output_type": "stream",
     "text": [
      "100%|███████████████████████████████████████████████████████████████████████████████| 179/179 [00:01<00:00, 110.08it/s]\n",
      "100%|█████████████████████████████████████████████████████████████████████████████████| 45/45 [00:00<00:00, 124.23it/s]\n"
     ]
    }
   ],
   "source": [
    "from PIL import ImageFile                            \n",
    "ImageFile.LOAD_TRUNCATED_IMAGES = True                 \n",
    "\n",
    "# pre-process the data for Keras\n",
    "train_tensors = paths_to_tensor(train_files).astype('float32')/255\n",
    "valid_tensors = paths_to_tensor(valid_files).astype('float32')/255\n",
    "\n",
    "#run out of memory\n",
    "#test_tensors = paths_to_tensor(test_files).astype('float32')/255"
   ]
  },
  {
   "cell_type": "markdown",
   "metadata": {},
   "source": [
    "---\n",
    "<a id='step2'></a>\n",
    "## Step 2: Create a CNN to classify driver images (from scratch)\n",
    "\n",
    "We will use Keras and Tensorflow to implement our CNN model. In this step, we will\n",
    "provide the first architecture of the CNN model we design. And then test the performance\n",
    "result of the first CNN model."
   ]
  },
  {
   "cell_type": "markdown",
   "metadata": {},
   "source": [
    "### Model Architecture\n",
    "\n",
    "We create a CNN to classify driver behaviors. At the end of code cell block, we summarize the layers of the CNN model by executing the line:\n",
    "    \n",
    "        model.summary()\n",
    "\n",
    "We use three convolotion layers followed by three max pooling layers interleavingly and then use two fully connected layers behind in the CNN architecture. We also adopt batch_normalization layer between each convolution layer or dense layer and their activation layer to avoid covariate shift and accelerate the training process. The number of filters in each convolution layer is twice to the previous one (this is a common practice), and we choose 16, 32, and 64 filters to extract the feature maps (regional information). The window size of feature filter in each convolution layer and also the pool size in each max pooling layer are both (2,2), and it's also a kind of typical choices. We set the padding parameter to be 'same' for not loss information near matrix boundaries. The activation function in each layer beside output is ReLU for dealing with the vanishing gradient problem, and that in output layer is SoftMax for calculation of probabilities on the multi-classes. In max pooling layers, we set the strides parameter to be 2 for half both length and width of each 2D feature map (dimension reduction), and such strides setting is typical. Before fully connected layers, we use the GlobalAveragePooling2D layer, which can immediately reduce the amount of parameters and avoid overfitting as well as save much time. We adopt the dropout layers with probability 0.2 to reduce opportunity of overfitting. We choose the number of nodes to be 64 in the first fully connected layer for initial try, and due to the 10 classes of driver behaviors, the number of nodes in output layer is 10."
   ]
  },
  {
   "cell_type": "code",
   "execution_count": 10,
   "metadata": {
    "collapsed": false
   },
   "outputs": [
    {
     "name": "stdout",
     "output_type": "stream",
     "text": [
      "_________________________________________________________________\n",
      "Layer (type)                 Output Shape              Param #   \n",
      "=================================================================\n",
      "conv2d_1 (Conv2D)            (None, 112, 112, 16)      208       \n",
      "_________________________________________________________________\n",
      "max_pooling2d_1 (MaxPooling2 (None, 56, 56, 16)        0         \n",
      "_________________________________________________________________\n",
      "batch_normalization_1 (Batch (None, 56, 56, 16)        64        \n",
      "_________________________________________________________________\n",
      "dropout_1 (Dropout)          (None, 56, 56, 16)        0         \n",
      "_________________________________________________________________\n",
      "conv2d_2 (Conv2D)            (None, 56, 56, 32)        2080      \n",
      "_________________________________________________________________\n",
      "max_pooling2d_2 (MaxPooling2 (None, 28, 28, 32)        0         \n",
      "_________________________________________________________________\n",
      "batch_normalization_2 (Batch (None, 28, 28, 32)        128       \n",
      "_________________________________________________________________\n",
      "dropout_2 (Dropout)          (None, 28, 28, 32)        0         \n",
      "_________________________________________________________________\n",
      "conv2d_3 (Conv2D)            (None, 28, 28, 64)        8256      \n",
      "_________________________________________________________________\n",
      "max_pooling2d_3 (MaxPooling2 (None, 14, 14, 64)        0         \n",
      "_________________________________________________________________\n",
      "batch_normalization_3 (Batch (None, 14, 14, 64)        256       \n",
      "_________________________________________________________________\n",
      "dropout_3 (Dropout)          (None, 14, 14, 64)        0         \n",
      "_________________________________________________________________\n",
      "global_average_pooling2d_1 ( (None, 64)                0         \n",
      "_________________________________________________________________\n",
      "dense_1 (Dense)              (None, 64)                4160      \n",
      "_________________________________________________________________\n",
      "batch_normalization_4 (Batch (None, 64)                256       \n",
      "_________________________________________________________________\n",
      "activation_1 (Activation)    (None, 64)                0         \n",
      "_________________________________________________________________\n",
      "dropout_4 (Dropout)          (None, 64)                0         \n",
      "_________________________________________________________________\n",
      "dense_2 (Dense)              (None, 10)                650       \n",
      "_________________________________________________________________\n",
      "batch_normalization_5 (Batch (None, 10)                40        \n",
      "_________________________________________________________________\n",
      "activation_2 (Activation)    (None, 10)                0         \n",
      "=================================================================\n",
      "Total params: 16,098\n",
      "Trainable params: 15,726\n",
      "Non-trainable params: 372\n",
      "_________________________________________________________________\n"
     ]
    }
   ],
   "source": [
    "from keras.layers import Conv2D, MaxPooling2D, GlobalAveragePooling2D\n",
    "from keras.layers import Dropout, Flatten, Dense, Activation\n",
    "from keras.models import Sequential\n",
    "from keras.layers.normalization import BatchNormalization\n",
    "\n",
    "model = Sequential()\n",
    "\n",
    "model.add(Conv2D(filters=16, kernel_size=2, padding='same', input_shape=(112, 112, 3), activation='relu'))\n",
    "model.add(MaxPooling2D(pool_size=2, strides=2, padding='same'))\n",
    "model.add(BatchNormalization())\n",
    "model.add(Dropout(0.2))\n",
    "\n",
    "model.add(Conv2D(filters=32, kernel_size=2, padding='same', activation='relu'))\n",
    "model.add(MaxPooling2D(pool_size=2, strides=2, padding='same'))\n",
    "model.add(BatchNormalization())\n",
    "model.add(Dropout(0.2))\n",
    "\n",
    "model.add(Conv2D(filters=64, kernel_size=2, padding='same', activation='relu'))\n",
    "model.add(MaxPooling2D(pool_size=2, strides=2, padding='same'))\n",
    "model.add(BatchNormalization())\n",
    "model.add(Dropout(0.2))\n",
    "\n",
    "model.add(GlobalAveragePooling2D())\n",
    "\n",
    "model.add(Dense(64))\n",
    "model.add(BatchNormalization())\n",
    "model.add(Activation('relu'))\n",
    "model.add(Dropout(0.2))\n",
    "\n",
    "model.add(Dense(10))\n",
    "model.add(BatchNormalization())\n",
    "model.add(Activation('softmax'))\n",
    "\n",
    "model.summary()"
   ]
  },
  {
   "cell_type": "markdown",
   "metadata": {},
   "source": [
    "### Compile the Model"
   ]
  },
  {
   "cell_type": "code",
   "execution_count": 11,
   "metadata": {
    "collapsed": true
   },
   "outputs": [],
   "source": [
    "model.compile(optimizer='rmsprop', loss='categorical_crossentropy', metrics=['accuracy'])"
   ]
  },
  {
   "cell_type": "markdown",
   "metadata": {},
   "source": [
    "### Train the Model\n",
    "\n",
    "We train the first CNN model we design in the code cell below. Use model checkpointing to save the model that attains the best validation loss."
   ]
  },
  {
   "cell_type": "code",
   "execution_count": 12,
   "metadata": {
    "collapsed": false
   },
   "outputs": [
    {
     "name": "stdout",
     "output_type": "stream",
     "text": [
      "Train on 179 samples, validate on 45 samples\n",
      "Epoch 1/20\n",
      "160/179 [=========================>....] - ETA: 0s - loss: 2.6176 - acc: 0.1125Epoch 00000: val_loss improved from inf to 2.29919, saving model to saved_models/weights.best.from_scratch.hdf5\n",
      "179/179 [==============================] - 8s - loss: 2.6161 - acc: 0.1229 - val_loss: 2.2992 - val_acc: 0.1111\n",
      "Epoch 2/20\n",
      "160/179 [=========================>....] - ETA: 0s - loss: 2.4175 - acc: 0.1563Epoch 00001: val_loss improved from 2.29919 to 2.29711, saving model to saved_models/weights.best.from_scratch.hdf5\n",
      "179/179 [==============================] - 6s - loss: 2.4365 - acc: 0.1564 - val_loss: 2.2971 - val_acc: 0.1111\n",
      "Epoch 3/20\n",
      "160/179 [=========================>....] - ETA: 0s - loss: 2.3537 - acc: 0.1625Epoch 00002: val_loss improved from 2.29711 to 2.29419, saving model to saved_models/weights.best.from_scratch.hdf5\n",
      "179/179 [==============================] - 5s - loss: 2.3515 - acc: 0.1508 - val_loss: 2.2942 - val_acc: 0.1111\n",
      "Epoch 4/20\n",
      "160/179 [=========================>....] - ETA: 0s - loss: 2.1381 - acc: 0.2563Epoch 00003: val_loss did not improve\n",
      "179/179 [==============================] - 6s - loss: 2.1725 - acc: 0.2402 - val_loss: 2.2979 - val_acc: 0.1111\n",
      "Epoch 5/20\n",
      "160/179 [=========================>....] - ETA: 0s - loss: 2.2229 - acc: 0.1875Epoch 00004: val_loss did not improve\n",
      "179/179 [==============================] - 5s - loss: 2.1945 - acc: 0.1955 - val_loss: 2.3050 - val_acc: 0.1111\n",
      "Epoch 6/20\n",
      "160/179 [=========================>....] - ETA: 0s - loss: 2.0987 - acc: 0.2375Epoch 00005: val_loss did not improve\n",
      "179/179 [==============================] - 6s - loss: 2.1194 - acc: 0.2402 - val_loss: 2.3050 - val_acc: 0.1111\n",
      "Epoch 7/20\n",
      "160/179 [=========================>....] - ETA: 0s - loss: 2.1685 - acc: 0.2500Epoch 00006: val_loss did not improve\n",
      "179/179 [==============================] - 6s - loss: 2.2086 - acc: 0.2402 - val_loss: 2.3112 - val_acc: 0.1333\n",
      "Epoch 8/20\n",
      "160/179 [=========================>....] - ETA: 0s - loss: 2.0359 - acc: 0.2812Epoch 00007: val_loss did not improve\n",
      "179/179 [==============================] - 7s - loss: 2.0357 - acc: 0.2682 - val_loss: 2.3318 - val_acc: 0.0889\n",
      "Epoch 9/20\n",
      "160/179 [=========================>....] - ETA: 0s - loss: 2.0940 - acc: 0.2375Epoch 00008: val_loss did not improve\n",
      "179/179 [==============================] - 5s - loss: 2.1088 - acc: 0.2291 - val_loss: 2.3612 - val_acc: 0.0889\n",
      "Epoch 10/20\n",
      "160/179 [=========================>....] - ETA: 0s - loss: 2.1019 - acc: 0.2500Epoch 00009: val_loss did not improve\n",
      "179/179 [==============================] - 6s - loss: 2.0749 - acc: 0.2570 - val_loss: 2.3774 - val_acc: 0.0889\n",
      "Epoch 11/20\n",
      "160/179 [=========================>....] - ETA: 0s - loss: 2.0167 - acc: 0.2562Epoch 00010: val_loss did not improve\n",
      "179/179 [==============================] - 6s - loss: 2.0362 - acc: 0.2458 - val_loss: 2.3951 - val_acc: 0.0889\n",
      "Epoch 12/20\n",
      "160/179 [=========================>....] - ETA: 0s - loss: 2.0496 - acc: 0.2188Epoch 00011: val_loss did not improve\n",
      "179/179 [==============================] - 5s - loss: 2.0323 - acc: 0.2235 - val_loss: 2.4207 - val_acc: 0.0889\n",
      "Epoch 13/20\n",
      "160/179 [=========================>....] - ETA: 0s - loss: 1.9305 - acc: 0.2875Epoch 00012: val_loss did not improve\n",
      "179/179 [==============================] - 5s - loss: 1.9375 - acc: 0.2737 - val_loss: 2.4370 - val_acc: 0.0667\n",
      "Epoch 14/20\n",
      "160/179 [=========================>....] - ETA: 0s - loss: 1.9658 - acc: 0.2938Epoch 00013: val_loss did not improve\n",
      "179/179 [==============================] - 6s - loss: 1.9857 - acc: 0.2849 - val_loss: 2.5052 - val_acc: 0.0889\n",
      "Epoch 15/20\n",
      "160/179 [=========================>....] - ETA: 0s - loss: 1.9497 - acc: 0.2875Epoch 00014: val_loss did not improve\n",
      "179/179 [==============================] - 6s - loss: 1.9374 - acc: 0.3017 - val_loss: 2.5474 - val_acc: 0.0889\n",
      "Epoch 16/20\n",
      "160/179 [=========================>....] - ETA: 0s - loss: 1.8830 - acc: 0.3688Epoch 00015: val_loss did not improve\n",
      "179/179 [==============================] - 5s - loss: 1.9027 - acc: 0.3464 - val_loss: 2.5476 - val_acc: 0.0889\n",
      "Epoch 17/20\n",
      "160/179 [=========================>....] - ETA: 0s - loss: 1.8720 - acc: 0.3000Epoch 00016: val_loss did not improve\n",
      "179/179 [==============================] - 5s - loss: 1.8735 - acc: 0.3073 - val_loss: 2.6011 - val_acc: 0.0889\n",
      "Epoch 18/20\n",
      "160/179 [=========================>....] - ETA: 0s - loss: 1.8771 - acc: 0.4000Epoch 00017: val_loss did not improve\n",
      "179/179 [==============================] - 5s - loss: 1.8393 - acc: 0.4190 - val_loss: 2.6388 - val_acc: 0.0889\n",
      "Epoch 19/20\n",
      "160/179 [=========================>....] - ETA: 0s - loss: 1.8392 - acc: 0.3812Epoch 00018: val_loss did not improve\n",
      "179/179 [==============================] - 5s - loss: 1.8185 - acc: 0.3799 - val_loss: 2.6950 - val_acc: 0.0889\n",
      "Epoch 20/20\n",
      "160/179 [=========================>....] - ETA: 0s - loss: 1.7949 - acc: 0.3938Epoch 00019: val_loss did not improve\n",
      "179/179 [==============================] - 5s - loss: 1.7912 - acc: 0.4078 - val_loss: 2.8066 - val_acc: 0.0889\n"
     ]
    },
    {
     "data": {
      "text/plain": [
       "<keras.callbacks.History at 0x1c7db20dba8>"
      ]
     },
     "execution_count": 12,
     "metadata": {},
     "output_type": "execute_result"
    }
   ],
   "source": [
    "from keras.callbacks import ModelCheckpoint  \n",
    "\n",
    "checkpointer = ModelCheckpoint(filepath='saved_models/weights.best.from_scratch.hdf5', \n",
    "                               verbose=1, save_best_only=True)\n",
    "\n",
    "model.fit(train_tensors, train_targets, \n",
    "          validation_data=(valid_tensors, valid_targets),\n",
    "          epochs=20, batch_size=20, callbacks=[checkpointer], verbose=1)"
   ]
  },
  {
   "cell_type": "markdown",
   "metadata": {},
   "source": [
    "### Load the Model with the Best Validation Loss"
   ]
  },
  {
   "cell_type": "code",
   "execution_count": 13,
   "metadata": {
    "collapsed": true
   },
   "outputs": [],
   "source": [
    "model.load_weights('saved_models/weights.best.from_scratch.hdf5')"
   ]
  },
  {
   "cell_type": "markdown",
   "metadata": {},
   "source": [
    "### Test the Model\n",
    "\n",
    "In the code cell below, we test our first CNN model on the testing data set of driver images. The prediction probability results of all the test images are written into the csv file: **CNN_1_test_probability.csv**, following the submission format defined by Kaggle.\n",
    "\n",
    "**The score (evaluation metrics: logarithmic loss function) of our first CNN model is 2.86036.**\n",
    "\n",
    "**The test result of our first CNN model is ranked 1367 out of 1440 in public leader board.**"
   ]
  },
  {
   "cell_type": "code",
   "execution_count": 14,
   "metadata": {
    "collapsed": false
   },
   "outputs": [
    {
     "name": "stderr",
     "output_type": "stream",
     "text": [
      " 74%|████████████████████████████████████████████████████████                    | 58776/79726 [19:07<06:57, 50.15it/s]"
     ]
    },
    {
     "ename": "KeyboardInterrupt",
     "evalue": "",
     "output_type": "error",
     "traceback": [
      "\u001b[0;31m---------------------------------------------------------------------------\u001b[0m",
      "\u001b[0;31mKeyboardInterrupt\u001b[0m                         Traceback (most recent call last)",
      "\u001b[0;32m<ipython-input-14-0c8adac81f5c>\u001b[0m in \u001b[0;36m<module>\u001b[0;34m()\u001b[0m\n\u001b[1;32m      3\u001b[0m     \u001b[0mtest_tensor\u001b[0m \u001b[1;33m=\u001b[0m \u001b[0mpath_to_tensor\u001b[0m\u001b[1;33m(\u001b[0m\u001b[0mtest_file\u001b[0m\u001b[1;33m)\u001b[0m\u001b[1;33m\u001b[0m\u001b[0m\n\u001b[1;32m      4\u001b[0m     \u001b[0mtest_tensor\u001b[0m \u001b[1;33m=\u001b[0m \u001b[0mnp\u001b[0m\u001b[1;33m.\u001b[0m\u001b[0mvstack\u001b[0m\u001b[1;33m(\u001b[0m\u001b[0mtest_tensor\u001b[0m\u001b[1;33m)\u001b[0m\u001b[1;33m.\u001b[0m\u001b[0mastype\u001b[0m\u001b[1;33m(\u001b[0m\u001b[1;34m'float32'\u001b[0m\u001b[1;33m)\u001b[0m\u001b[1;33m/\u001b[0m\u001b[1;36m255\u001b[0m\u001b[1;33m\u001b[0m\u001b[0m\n\u001b[0;32m----> 5\u001b[0;31m     \u001b[0mdriver_behavior_predictions\u001b[0m\u001b[1;33m.\u001b[0m\u001b[0mappend\u001b[0m\u001b[1;33m(\u001b[0m\u001b[0mmodel\u001b[0m\u001b[1;33m.\u001b[0m\u001b[0mpredict\u001b[0m\u001b[1;33m(\u001b[0m\u001b[0mnp\u001b[0m\u001b[1;33m.\u001b[0m\u001b[0mexpand_dims\u001b[0m\u001b[1;33m(\u001b[0m\u001b[0mtest_tensor\u001b[0m\u001b[1;33m,\u001b[0m \u001b[0maxis\u001b[0m\u001b[1;33m=\u001b[0m\u001b[1;36m0\u001b[0m\u001b[1;33m)\u001b[0m\u001b[1;33m)\u001b[0m\u001b[1;33m[\u001b[0m\u001b[1;36m0\u001b[0m\u001b[1;33m]\u001b[0m\u001b[1;33m)\u001b[0m\u001b[1;33m\u001b[0m\u001b[0m\n\u001b[0m\u001b[1;32m      6\u001b[0m \u001b[1;33m\u001b[0m\u001b[0m\n\u001b[1;32m      7\u001b[0m \u001b[1;31m#driver_behavior_predictions = [model.predict(np.expand_dims(test_tensor, axis=0))[0] for test_tensor in test_tensors]\u001b[0m\u001b[1;33m\u001b[0m\u001b[1;33m\u001b[0m\u001b[0m\n",
      "\u001b[0;32mC:\\Program Files\\Anaconda3\\lib\\site-packages\\keras\\models.py\u001b[0m in \u001b[0;36mpredict\u001b[0;34m(self, x, batch_size, verbose)\u001b[0m\n\u001b[1;32m    911\u001b[0m         \u001b[1;32mif\u001b[0m \u001b[1;32mnot\u001b[0m \u001b[0mself\u001b[0m\u001b[1;33m.\u001b[0m\u001b[0mbuilt\u001b[0m\u001b[1;33m:\u001b[0m\u001b[1;33m\u001b[0m\u001b[0m\n\u001b[1;32m    912\u001b[0m             \u001b[0mself\u001b[0m\u001b[1;33m.\u001b[0m\u001b[0mbuild\u001b[0m\u001b[1;33m(\u001b[0m\u001b[1;33m)\u001b[0m\u001b[1;33m\u001b[0m\u001b[0m\n\u001b[0;32m--> 913\u001b[0;31m         \u001b[1;32mreturn\u001b[0m \u001b[0mself\u001b[0m\u001b[1;33m.\u001b[0m\u001b[0mmodel\u001b[0m\u001b[1;33m.\u001b[0m\u001b[0mpredict\u001b[0m\u001b[1;33m(\u001b[0m\u001b[0mx\u001b[0m\u001b[1;33m,\u001b[0m \u001b[0mbatch_size\u001b[0m\u001b[1;33m=\u001b[0m\u001b[0mbatch_size\u001b[0m\u001b[1;33m,\u001b[0m \u001b[0mverbose\u001b[0m\u001b[1;33m=\u001b[0m\u001b[0mverbose\u001b[0m\u001b[1;33m)\u001b[0m\u001b[1;33m\u001b[0m\u001b[0m\n\u001b[0m\u001b[1;32m    914\u001b[0m \u001b[1;33m\u001b[0m\u001b[0m\n\u001b[1;32m    915\u001b[0m     \u001b[1;32mdef\u001b[0m \u001b[0mpredict_on_batch\u001b[0m\u001b[1;33m(\u001b[0m\u001b[0mself\u001b[0m\u001b[1;33m,\u001b[0m \u001b[0mx\u001b[0m\u001b[1;33m)\u001b[0m\u001b[1;33m:\u001b[0m\u001b[1;33m\u001b[0m\u001b[0m\n",
      "\u001b[0;32mC:\\Program Files\\Anaconda3\\lib\\site-packages\\keras\\engine\\training.py\u001b[0m in \u001b[0;36mpredict\u001b[0;34m(self, x, batch_size, verbose, steps)\u001b[0m\n\u001b[1;32m   1708\u001b[0m         \u001b[0mf\u001b[0m \u001b[1;33m=\u001b[0m \u001b[0mself\u001b[0m\u001b[1;33m.\u001b[0m\u001b[0mpredict_function\u001b[0m\u001b[1;33m\u001b[0m\u001b[0m\n\u001b[1;32m   1709\u001b[0m         return self._predict_loop(f, ins, batch_size=batch_size,\n\u001b[0;32m-> 1710\u001b[0;31m                                   verbose=verbose, steps=steps)\n\u001b[0m\u001b[1;32m   1711\u001b[0m \u001b[1;33m\u001b[0m\u001b[0m\n\u001b[1;32m   1712\u001b[0m     def train_on_batch(self, x, y,\n",
      "\u001b[0;32mC:\\Program Files\\Anaconda3\\lib\\site-packages\\keras\\engine\\training.py\u001b[0m in \u001b[0;36m_predict_loop\u001b[0;34m(self, f, ins, batch_size, verbose, steps)\u001b[0m\n\u001b[1;32m   1266\u001b[0m                 \u001b[1;32melse\u001b[0m\u001b[1;33m:\u001b[0m\u001b[1;33m\u001b[0m\u001b[0m\n\u001b[1;32m   1267\u001b[0m                     \u001b[0mins_batch\u001b[0m \u001b[1;33m=\u001b[0m \u001b[0m_slice_arrays\u001b[0m\u001b[1;33m(\u001b[0m\u001b[0mins\u001b[0m\u001b[1;33m,\u001b[0m \u001b[0mbatch_ids\u001b[0m\u001b[1;33m)\u001b[0m\u001b[1;33m\u001b[0m\u001b[0m\n\u001b[0;32m-> 1268\u001b[0;31m                 \u001b[0mbatch_outs\u001b[0m \u001b[1;33m=\u001b[0m \u001b[0mf\u001b[0m\u001b[1;33m(\u001b[0m\u001b[0mins_batch\u001b[0m\u001b[1;33m)\u001b[0m\u001b[1;33m\u001b[0m\u001b[0m\n\u001b[0m\u001b[1;32m   1269\u001b[0m                 \u001b[1;32mif\u001b[0m \u001b[1;32mnot\u001b[0m \u001b[0misinstance\u001b[0m\u001b[1;33m(\u001b[0m\u001b[0mbatch_outs\u001b[0m\u001b[1;33m,\u001b[0m \u001b[0mlist\u001b[0m\u001b[1;33m)\u001b[0m\u001b[1;33m:\u001b[0m\u001b[1;33m\u001b[0m\u001b[0m\n\u001b[1;32m   1270\u001b[0m                     \u001b[0mbatch_outs\u001b[0m \u001b[1;33m=\u001b[0m \u001b[1;33m[\u001b[0m\u001b[0mbatch_outs\u001b[0m\u001b[1;33m]\u001b[0m\u001b[1;33m\u001b[0m\u001b[0m\n",
      "\u001b[0;32mC:\\Program Files\\Anaconda3\\lib\\site-packages\\keras\\backend\\tensorflow_backend.py\u001b[0m in \u001b[0;36m__call__\u001b[0;34m(self, inputs)\u001b[0m\n\u001b[1;32m   2268\u001b[0m         updated = session.run(self.outputs + [self.updates_op],\n\u001b[1;32m   2269\u001b[0m                               \u001b[0mfeed_dict\u001b[0m\u001b[1;33m=\u001b[0m\u001b[0mfeed_dict\u001b[0m\u001b[1;33m,\u001b[0m\u001b[1;33m\u001b[0m\u001b[0m\n\u001b[0;32m-> 2270\u001b[0;31m                               **self.session_kwargs)\n\u001b[0m\u001b[1;32m   2271\u001b[0m         \u001b[1;32mreturn\u001b[0m \u001b[0mupdated\u001b[0m\u001b[1;33m[\u001b[0m\u001b[1;33m:\u001b[0m\u001b[0mlen\u001b[0m\u001b[1;33m(\u001b[0m\u001b[0mself\u001b[0m\u001b[1;33m.\u001b[0m\u001b[0moutputs\u001b[0m\u001b[1;33m)\u001b[0m\u001b[1;33m]\u001b[0m\u001b[1;33m\u001b[0m\u001b[0m\n\u001b[1;32m   2272\u001b[0m \u001b[1;33m\u001b[0m\u001b[0m\n",
      "\u001b[0;32mC:\\Program Files\\Anaconda3\\lib\\site-packages\\tensorflow\\python\\client\\session.py\u001b[0m in \u001b[0;36mrun\u001b[0;34m(self, fetches, feed_dict, options, run_metadata)\u001b[0m\n\u001b[1;32m    787\u001b[0m     \u001b[1;32mtry\u001b[0m\u001b[1;33m:\u001b[0m\u001b[1;33m\u001b[0m\u001b[0m\n\u001b[1;32m    788\u001b[0m       result = self._run(None, fetches, feed_dict, options_ptr,\n\u001b[0;32m--> 789\u001b[0;31m                          run_metadata_ptr)\n\u001b[0m\u001b[1;32m    790\u001b[0m       \u001b[1;32mif\u001b[0m \u001b[0mrun_metadata\u001b[0m\u001b[1;33m:\u001b[0m\u001b[1;33m\u001b[0m\u001b[0m\n\u001b[1;32m    791\u001b[0m         \u001b[0mproto_data\u001b[0m \u001b[1;33m=\u001b[0m \u001b[0mtf_session\u001b[0m\u001b[1;33m.\u001b[0m\u001b[0mTF_GetBuffer\u001b[0m\u001b[1;33m(\u001b[0m\u001b[0mrun_metadata_ptr\u001b[0m\u001b[1;33m)\u001b[0m\u001b[1;33m\u001b[0m\u001b[0m\n",
      "\u001b[0;32mC:\\Program Files\\Anaconda3\\lib\\site-packages\\tensorflow\\python\\client\\session.py\u001b[0m in \u001b[0;36m_run\u001b[0;34m(self, handle, fetches, feed_dict, options, run_metadata)\u001b[0m\n\u001b[1;32m    995\u001b[0m     \u001b[1;32mif\u001b[0m \u001b[0mfinal_fetches\u001b[0m \u001b[1;32mor\u001b[0m \u001b[0mfinal_targets\u001b[0m\u001b[1;33m:\u001b[0m\u001b[1;33m\u001b[0m\u001b[0m\n\u001b[1;32m    996\u001b[0m       results = self._do_run(handle, final_targets, final_fetches,\n\u001b[0;32m--> 997\u001b[0;31m                              feed_dict_string, options, run_metadata)\n\u001b[0m\u001b[1;32m    998\u001b[0m     \u001b[1;32melse\u001b[0m\u001b[1;33m:\u001b[0m\u001b[1;33m\u001b[0m\u001b[0m\n\u001b[1;32m    999\u001b[0m       \u001b[0mresults\u001b[0m \u001b[1;33m=\u001b[0m \u001b[1;33m[\u001b[0m\u001b[1;33m]\u001b[0m\u001b[1;33m\u001b[0m\u001b[0m\n",
      "\u001b[0;32mC:\\Program Files\\Anaconda3\\lib\\site-packages\\tensorflow\\python\\client\\session.py\u001b[0m in \u001b[0;36m_do_run\u001b[0;34m(self, handle, target_list, fetch_list, feed_dict, options, run_metadata)\u001b[0m\n\u001b[1;32m   1130\u001b[0m     \u001b[1;32mif\u001b[0m \u001b[0mhandle\u001b[0m \u001b[1;32mis\u001b[0m \u001b[1;32mNone\u001b[0m\u001b[1;33m:\u001b[0m\u001b[1;33m\u001b[0m\u001b[0m\n\u001b[1;32m   1131\u001b[0m       return self._do_call(_run_fn, self._session, feed_dict, fetch_list,\n\u001b[0;32m-> 1132\u001b[0;31m                            target_list, options, run_metadata)\n\u001b[0m\u001b[1;32m   1133\u001b[0m     \u001b[1;32melse\u001b[0m\u001b[1;33m:\u001b[0m\u001b[1;33m\u001b[0m\u001b[0m\n\u001b[1;32m   1134\u001b[0m       return self._do_call(_prun_fn, self._session, handle, feed_dict,\n",
      "\u001b[0;32mC:\\Program Files\\Anaconda3\\lib\\site-packages\\tensorflow\\python\\client\\session.py\u001b[0m in \u001b[0;36m_do_call\u001b[0;34m(self, fn, *args)\u001b[0m\n\u001b[1;32m   1137\u001b[0m   \u001b[1;32mdef\u001b[0m \u001b[0m_do_call\u001b[0m\u001b[1;33m(\u001b[0m\u001b[0mself\u001b[0m\u001b[1;33m,\u001b[0m \u001b[0mfn\u001b[0m\u001b[1;33m,\u001b[0m \u001b[1;33m*\u001b[0m\u001b[0margs\u001b[0m\u001b[1;33m)\u001b[0m\u001b[1;33m:\u001b[0m\u001b[1;33m\u001b[0m\u001b[0m\n\u001b[1;32m   1138\u001b[0m     \u001b[1;32mtry\u001b[0m\u001b[1;33m:\u001b[0m\u001b[1;33m\u001b[0m\u001b[0m\n\u001b[0;32m-> 1139\u001b[0;31m       \u001b[1;32mreturn\u001b[0m \u001b[0mfn\u001b[0m\u001b[1;33m(\u001b[0m\u001b[1;33m*\u001b[0m\u001b[0margs\u001b[0m\u001b[1;33m)\u001b[0m\u001b[1;33m\u001b[0m\u001b[0m\n\u001b[0m\u001b[1;32m   1140\u001b[0m     \u001b[1;32mexcept\u001b[0m \u001b[0merrors\u001b[0m\u001b[1;33m.\u001b[0m\u001b[0mOpError\u001b[0m \u001b[1;32mas\u001b[0m \u001b[0me\u001b[0m\u001b[1;33m:\u001b[0m\u001b[1;33m\u001b[0m\u001b[0m\n\u001b[1;32m   1141\u001b[0m       \u001b[0mmessage\u001b[0m \u001b[1;33m=\u001b[0m \u001b[0mcompat\u001b[0m\u001b[1;33m.\u001b[0m\u001b[0mas_text\u001b[0m\u001b[1;33m(\u001b[0m\u001b[0me\u001b[0m\u001b[1;33m.\u001b[0m\u001b[0mmessage\u001b[0m\u001b[1;33m)\u001b[0m\u001b[1;33m\u001b[0m\u001b[0m\n",
      "\u001b[0;32mC:\\Program Files\\Anaconda3\\lib\\site-packages\\tensorflow\\python\\client\\session.py\u001b[0m in \u001b[0;36m_run_fn\u001b[0;34m(session, feed_dict, fetch_list, target_list, options, run_metadata)\u001b[0m\n\u001b[1;32m   1119\u001b[0m         return tf_session.TF_Run(session, options,\n\u001b[1;32m   1120\u001b[0m                                  \u001b[0mfeed_dict\u001b[0m\u001b[1;33m,\u001b[0m \u001b[0mfetch_list\u001b[0m\u001b[1;33m,\u001b[0m \u001b[0mtarget_list\u001b[0m\u001b[1;33m,\u001b[0m\u001b[1;33m\u001b[0m\u001b[0m\n\u001b[0;32m-> 1121\u001b[0;31m                                  status, run_metadata)\n\u001b[0m\u001b[1;32m   1122\u001b[0m \u001b[1;33m\u001b[0m\u001b[0m\n\u001b[1;32m   1123\u001b[0m     \u001b[1;32mdef\u001b[0m \u001b[0m_prun_fn\u001b[0m\u001b[1;33m(\u001b[0m\u001b[0msession\u001b[0m\u001b[1;33m,\u001b[0m \u001b[0mhandle\u001b[0m\u001b[1;33m,\u001b[0m \u001b[0mfeed_dict\u001b[0m\u001b[1;33m,\u001b[0m \u001b[0mfetch_list\u001b[0m\u001b[1;33m)\u001b[0m\u001b[1;33m:\u001b[0m\u001b[1;33m\u001b[0m\u001b[0m\n",
      "\u001b[0;31mKeyboardInterrupt\u001b[0m: "
     ]
    }
   ],
   "source": [
    "driver_behavior_predictions = []\n",
    "for test_file in tqdm(test_files):\n",
    "    test_tensor = path_to_tensor(test_file)\n",
    "    test_tensor = np.vstack(test_tensor).astype('float32')/255\n",
    "    driver_behavior_predictions.append(model.predict(np.expand_dims(test_tensor, axis=0))[0])\n",
    "\n",
    "#driver_behavior_predictions = [model.predict(np.expand_dims(test_tensor, axis=0))[0] for test_tensor in test_tensors]\n",
    "\n",
    "test_image_probability_csv = np.column_stack((np.asarray(test_image_filename_list), \\\n",
    "                                              np.asarray(driver_behavior_predictions, dtype=np.float32)))\n",
    "\n",
    "np.savetxt('submission/CNN_1_test_probability.csv', test_image_probability_csv, delimiter=',', \\\n",
    "           comments='', newline='\\n', fmt='%s', header='img,c0,c1,c2,c3,c4,c5,c6,c7,c8,c9')\n",
    "\n",
    "# get index of predicted dog breed for each image in test set\n",
    "#dog_breed_predictions = [np.argmax(model.predict(np.expand_dims(tensor, axis=0))) for tensor in test_tensors]\n",
    "\n",
    "# report test accuracy\n",
    "#test_accuracy = 100*np.sum(np.array(dog_breed_predictions)==np.argmax(test_targets, axis=1))/len(dog_breed_predictions)\n",
    "#print('Test accuracy: %.4f%%' % test_accuracy)"
   ]
  },
  {
   "cell_type": "markdown",
   "metadata": {},
   "source": [
    "---\n",
    "<a id='step3'></a>\n",
    "## Step 3: Use a CNN to classify driver images (using transfer learning)\n",
    "\n",
    "To reduce training time without sacrificing accuracy, we will train a CNN model using\n",
    "transfer learning. In this step, our CNN model will use the pre-trained VGG-16 model as a\n",
    "fixed feature extractor, where the last convolutional output of VGG-16 is fed as input to our\n",
    "model.\n",
    "\n",
    "## VGG16\n",
    "### Obtain Bottleneck Features"
   ]
  },
  {
   "cell_type": "code",
   "execution_count": null,
   "metadata": {
    "collapsed": false
   },
   "outputs": [
    {
     "name": "stdout",
     "output_type": "stream",
     "text": [
      "_________________________________________________________________\n",
      "Layer (type)                 Output Shape              Param #   \n",
      "=================================================================\n",
      "input_3 (InputLayer)         (None, None, None, 3)     0         \n",
      "_________________________________________________________________\n",
      "block1_conv1 (Conv2D)        (None, None, None, 64)    1792      \n",
      "_________________________________________________________________\n",
      "block1_conv2 (Conv2D)        (None, None, None, 64)    36928     \n",
      "_________________________________________________________________\n",
      "block1_pool (MaxPooling2D)   (None, None, None, 64)    0         \n",
      "_________________________________________________________________\n",
      "block2_conv1 (Conv2D)        (None, None, None, 128)   73856     \n",
      "_________________________________________________________________\n",
      "block2_conv2 (Conv2D)        (None, None, None, 128)   147584    \n",
      "_________________________________________________________________\n",
      "block2_pool (MaxPooling2D)   (None, None, None, 128)   0         \n",
      "_________________________________________________________________\n",
      "block3_conv1 (Conv2D)        (None, None, None, 256)   295168    \n",
      "_________________________________________________________________\n",
      "block3_conv2 (Conv2D)        (None, None, None, 256)   590080    \n",
      "_________________________________________________________________\n",
      "block3_conv3 (Conv2D)        (None, None, None, 256)   590080    \n",
      "_________________________________________________________________\n",
      "block3_pool (MaxPooling2D)   (None, None, None, 256)   0         \n",
      "_________________________________________________________________\n",
      "block4_conv1 (Conv2D)        (None, None, None, 512)   1180160   \n",
      "_________________________________________________________________\n",
      "block4_conv2 (Conv2D)        (None, None, None, 512)   2359808   \n",
      "_________________________________________________________________\n",
      "block4_conv3 (Conv2D)        (None, None, None, 512)   2359808   \n",
      "_________________________________________________________________\n",
      "block4_pool (MaxPooling2D)   (None, None, None, 512)   0         \n",
      "_________________________________________________________________\n",
      "block5_conv1 (Conv2D)        (None, None, None, 512)   2359808   \n",
      "_________________________________________________________________\n",
      "block5_conv2 (Conv2D)        (None, None, None, 512)   2359808   \n",
      "_________________________________________________________________\n",
      "block5_conv3 (Conv2D)        (None, None, None, 512)   2359808   \n",
      "_________________________________________________________________\n",
      "block5_pool (MaxPooling2D)   (None, None, None, 512)   0         \n",
      "=================================================================\n",
      "Total params: 14,714,688\n",
      "Trainable params: 14,714,688\n",
      "Non-trainable params: 0\n",
      "_________________________________________________________________\n"
     ]
    }
   ],
   "source": [
    "from keras.applications.vgg16 import VGG16\n",
    "\n",
    "# https://keras.io/applications/#vgg16\n",
    "# NOT include the 3 fully-connected layers at the top of the network\n",
    "model = VGG16(include_top=False)\n",
    "\n",
    "model.summary()"
   ]
  },
  {
   "cell_type": "code",
   "execution_count": null,
   "metadata": {
    "collapsed": false
   },
   "outputs": [],
   "source": [
    "bottleneck_features_train = \\\n",
    "        np.asarray([model.predict(np.expand_dims(train_tensor, axis=0))[0] for train_tensor in train_tensors], dtype=np.float32)\n",
    "\n",
    "bottleneck_features_valid = \\\n",
    "        np.asarray([model.predict(np.expand_dims(valid_tensor, axis=0))[0] for valid_tensor in valid_tensors], dtype=np.float32)"
   ]
  },
  {
   "cell_type": "code",
   "execution_count": null,
   "metadata": {
    "collapsed": false
   },
   "outputs": [],
   "source": [
    "np.save(open('bottleneck_features/driver_VGG16_train.npy', 'wb'), bottleneck_features_train)\n",
    "np.save(open('bottleneck_features/driver_VGG16_valid.npy', 'wb'), bottleneck_features_valid)"
   ]
  },
  {
   "cell_type": "code",
   "execution_count": null,
   "metadata": {
    "collapsed": true
   },
   "outputs": [],
   "source": [
    "# bottleneck_features_train = np.load('bottleneck_features/driver_VGG16_train.npy')\n",
    "# bottleneck_features_valid = np.load('bottleneck_features/driver_VGG16_valid.npy')"
   ]
  },
  {
   "cell_type": "markdown",
   "metadata": {},
   "source": [
    "### Model Architecture\n",
    "\n",
    "In our second CNN model using transfer learning of VGG16, we only add a global average pooling layer and a fully connected layer, where the latter contains one node for each driver behavior category and is equipped with a softmax."
   ]
  },
  {
   "cell_type": "code",
   "execution_count": 19,
   "metadata": {
    "collapsed": false
   },
   "outputs": [
    {
     "name": "stdout",
     "output_type": "stream",
     "text": [
      "_________________________________________________________________\n",
      "Layer (type)                 Output Shape              Param #   \n",
      "=================================================================\n",
      "global_average_pooling2d_2 ( (None, 512)               0         \n",
      "_________________________________________________________________\n",
      "dense_3 (Dense)              (None, 64)                32832     \n",
      "_________________________________________________________________\n",
      "batch_normalization_6 (Batch (None, 64)                256       \n",
      "_________________________________________________________________\n",
      "activation_3 (Activation)    (None, 64)                0         \n",
      "_________________________________________________________________\n",
      "dropout_5 (Dropout)          (None, 64)                0         \n",
      "_________________________________________________________________\n",
      "dense_4 (Dense)              (None, 10)                650       \n",
      "_________________________________________________________________\n",
      "batch_normalization_7 (Batch (None, 10)                40        \n",
      "_________________________________________________________________\n",
      "activation_4 (Activation)    (None, 10)                0         \n",
      "=================================================================\n",
      "Total params: 33,778\n",
      "Trainable params: 33,630\n",
      "Non-trainable params: 148\n",
      "_________________________________________________________________\n"
     ]
    }
   ],
   "source": [
    "VGG16_model = Sequential()\n",
    "\n",
    "VGG16_model.add(GlobalAveragePooling2D(input_shape=bottleneck_features_train.shape[1:]))\n",
    "\n",
    "VGG16_model.add(Dense(64))\n",
    "VGG16_model.add(BatchNormalization())\n",
    "VGG16_model.add(Activation('relu'))\n",
    "VGG16_model.add(Dropout(0.2))\n",
    "\n",
    "VGG16_model.add(Dense(10))\n",
    "VGG16_model.add(BatchNormalization())\n",
    "VGG16_model.add(Activation('softmax'))\n",
    "\n",
    "VGG16_model.summary()"
   ]
  },
  {
   "cell_type": "markdown",
   "metadata": {},
   "source": [
    "### Compile the Model"
   ]
  },
  {
   "cell_type": "code",
   "execution_count": 20,
   "metadata": {
    "collapsed": true
   },
   "outputs": [],
   "source": [
    "VGG16_model.compile(loss='categorical_crossentropy', optimizer='rmsprop', metrics=['accuracy'])"
   ]
  },
  {
   "cell_type": "markdown",
   "metadata": {},
   "source": [
    "### Train the Model"
   ]
  },
  {
   "cell_type": "code",
   "execution_count": 21,
   "metadata": {
    "collapsed": false
   },
   "outputs": [
    {
     "name": "stdout",
     "output_type": "stream",
     "text": [
      "Train on 179 samples, validate on 45 samples\n",
      "Epoch 1/20\n",
      "140/179 [======================>.......] - ETA: 0s - loss: 2.6933 - acc: 0.1357Epoch 00000: val_loss improved from inf to 2.65295, saving model to saved_models/weights.best.VGG16.hdf5\n",
      "179/179 [==============================] - 1s - loss: 2.5915 - acc: 0.1453 - val_loss: 2.6529 - val_acc: 0.0889\n",
      "Epoch 2/20\n",
      " 20/179 [==>...........................] - ETA: 0s - loss: 2.0520 - acc: 0.2000Epoch 00001: val_loss improved from 2.65295 to 2.61641, saving model to saved_models/weights.best.VGG16.hdf5\n",
      "179/179 [==============================] - 0s - loss: 2.0565 - acc: 0.2682 - val_loss: 2.6164 - val_acc: 0.0889\n",
      "Epoch 3/20\n",
      " 20/179 [==>...........................] - ETA: 0s - loss: 1.6690 - acc: 0.5000Epoch 00002: val_loss improved from 2.61641 to 2.55619, saving model to saved_models/weights.best.VGG16.hdf5\n",
      "179/179 [==============================] - 0s - loss: 1.7364 - acc: 0.4134 - val_loss: 2.5562 - val_acc: 0.0889\n",
      "Epoch 4/20\n",
      " 20/179 [==>...........................] - ETA: 0s - loss: 1.5581 - acc: 0.5500Epoch 00003: val_loss improved from 2.55619 to 2.49397, saving model to saved_models/weights.best.VGG16.hdf5\n",
      "179/179 [==============================] - 0s - loss: 1.5715 - acc: 0.4581 - val_loss: 2.4940 - val_acc: 0.1111\n",
      "Epoch 5/20\n",
      " 20/179 [==>...........................] - ETA: 0s - loss: 1.6106 - acc: 0.5500Epoch 00004: val_loss improved from 2.49397 to 2.46046, saving model to saved_models/weights.best.VGG16.hdf5\n",
      "179/179 [==============================] - 0s - loss: 1.4956 - acc: 0.5140 - val_loss: 2.4605 - val_acc: 0.1111\n",
      "Epoch 6/20\n",
      " 20/179 [==>...........................] - ETA: 0s - loss: 1.2246 - acc: 0.7500Epoch 00005: val_loss improved from 2.46046 to 2.40749, saving model to saved_models/weights.best.VGG16.hdf5\n",
      "179/179 [==============================] - 0s - loss: 1.3011 - acc: 0.7095 - val_loss: 2.4075 - val_acc: 0.1333\n",
      "Epoch 7/20\n",
      " 20/179 [==>...........................] - ETA: 0s - loss: 1.2411 - acc: 0.5500Epoch 00006: val_loss improved from 2.40749 to 2.35076, saving model to saved_models/weights.best.VGG16.hdf5\n",
      "179/179 [==============================] - 0s - loss: 1.3097 - acc: 0.6369 - val_loss: 2.3508 - val_acc: 0.1556\n",
      "Epoch 8/20\n",
      " 20/179 [==>...........................] - ETA: 0s - loss: 1.1266 - acc: 0.7000Epoch 00007: val_loss improved from 2.35076 to 2.30558, saving model to saved_models/weights.best.VGG16.hdf5\n",
      "179/179 [==============================] - 0s - loss: 1.1418 - acc: 0.7877 - val_loss: 2.3056 - val_acc: 0.1556\n",
      "Epoch 9/20\n",
      " 20/179 [==>...........................] - ETA: 0s - loss: 1.1823 - acc: 0.7000Epoch 00008: val_loss improved from 2.30558 to 2.24377, saving model to saved_models/weights.best.VGG16.hdf5\n",
      "179/179 [==============================] - 0s - loss: 1.1530 - acc: 0.7709 - val_loss: 2.2438 - val_acc: 0.2000\n",
      "Epoch 10/20\n",
      " 20/179 [==>...........................] - ETA: 0s - loss: 1.0040 - acc: 0.8000Epoch 00009: val_loss improved from 2.24377 to 2.20859, saving model to saved_models/weights.best.VGG16.hdf5\n",
      "179/179 [==============================] - 0s - loss: 1.0782 - acc: 0.7598 - val_loss: 2.2086 - val_acc: 0.2222\n",
      "Epoch 11/20\n",
      " 20/179 [==>...........................] - ETA: 0s - loss: 0.9858 - acc: 0.8000Epoch 00010: val_loss improved from 2.20859 to 2.16781, saving model to saved_models/weights.best.VGG16.hdf5\n",
      "179/179 [==============================] - 0s - loss: 0.9858 - acc: 0.8380 - val_loss: 2.1678 - val_acc: 0.2222\n",
      "Epoch 12/20\n",
      " 20/179 [==>...........................] - ETA: 0s - loss: 0.9287 - acc: 0.9000Epoch 00011: val_loss improved from 2.16781 to 2.12855, saving model to saved_models/weights.best.VGG16.hdf5\n",
      "179/179 [==============================] - 0s - loss: 0.9527 - acc: 0.8492 - val_loss: 2.1285 - val_acc: 0.2667\n",
      "Epoch 13/20\n",
      " 20/179 [==>...........................] - ETA: 0s - loss: 0.7845 - acc: 0.9500Epoch 00012: val_loss improved from 2.12855 to 2.07542, saving model to saved_models/weights.best.VGG16.hdf5\n",
      "179/179 [==============================] - 0s - loss: 0.9082 - acc: 0.8659 - val_loss: 2.0754 - val_acc: 0.2222\n",
      "Epoch 14/20\n",
      " 20/179 [==>...........................] - ETA: 0s - loss: 0.8326 - acc: 0.8500Epoch 00013: val_loss improved from 2.07542 to 2.04608, saving model to saved_models/weights.best.VGG16.hdf5\n",
      "179/179 [==============================] - 0s - loss: 0.8760 - acc: 0.8939 - val_loss: 2.0461 - val_acc: 0.2222\n",
      "Epoch 15/20\n",
      "160/179 [=========================>....] - ETA: 0s - loss: 0.8360 - acc: 0.9062Epoch 00014: val_loss improved from 2.04608 to 2.01723, saving model to saved_models/weights.best.VGG16.hdf5\n",
      "179/179 [==============================] - 0s - loss: 0.8431 - acc: 0.9050 - val_loss: 2.0172 - val_acc: 0.2222\n",
      "Epoch 16/20\n",
      " 20/179 [==>...........................] - ETA: 0s - loss: 0.7654 - acc: 0.9000Epoch 00015: val_loss improved from 2.01723 to 1.98893, saving model to saved_models/weights.best.VGG16.hdf5\n",
      "179/179 [==============================] - 0s - loss: 0.8454 - acc: 0.9162 - val_loss: 1.9889 - val_acc: 0.2889\n",
      "Epoch 17/20\n",
      "140/179 [======================>.......] - ETA: 0s - loss: 0.7538 - acc: 0.9500Epoch 00016: val_loss improved from 1.98893 to 1.98725, saving model to saved_models/weights.best.VGG16.hdf5\n",
      "179/179 [==============================] - 0s - loss: 0.7631 - acc: 0.9497 - val_loss: 1.9873 - val_acc: 0.3556\n",
      "Epoch 18/20\n",
      " 20/179 [==>...........................] - ETA: 0s - loss: 0.6188 - acc: 1.0000Epoch 00017: val_loss improved from 1.98725 to 1.96047, saving model to saved_models/weights.best.VGG16.hdf5\n",
      "179/179 [==============================] - 0s - loss: 0.7417 - acc: 0.9330 - val_loss: 1.9605 - val_acc: 0.3556\n",
      "Epoch 19/20\n",
      "140/179 [======================>.......] - ETA: 0s - loss: 0.7608 - acc: 0.9071Epoch 00018: val_loss improved from 1.96047 to 1.90782, saving model to saved_models/weights.best.VGG16.hdf5\n",
      "179/179 [==============================] - 0s - loss: 0.7612 - acc: 0.8994 - val_loss: 1.9078 - val_acc: 0.3556\n",
      "Epoch 20/20\n",
      "160/179 [=========================>....] - ETA: 0s - loss: 0.7426 - acc: 0.9250Epoch 00019: val_loss improved from 1.90782 to 1.90547, saving model to saved_models/weights.best.VGG16.hdf5\n",
      "179/179 [==============================] - 0s - loss: 0.7287 - acc: 0.9330 - val_loss: 1.9055 - val_acc: 0.4000\n"
     ]
    },
    {
     "data": {
      "text/plain": [
       "<keras.callbacks.History at 0x1c7ddf93da0>"
      ]
     },
     "execution_count": 21,
     "metadata": {},
     "output_type": "execute_result"
    }
   ],
   "source": [
    "checkpointer = ModelCheckpoint(filepath='saved_models/weights.best.VGG16.hdf5', \n",
    "                               verbose=1, save_best_only=True)\n",
    "\n",
    "VGG16_model.fit(bottleneck_features_train, train_targets, \n",
    "                validation_data=(bottleneck_features_valid, valid_targets),\n",
    "                epochs=20, batch_size=20, callbacks=[checkpointer], verbose=1)"
   ]
  },
  {
   "cell_type": "markdown",
   "metadata": {},
   "source": [
    "### Load the Model with the Best Validation Loss"
   ]
  },
  {
   "cell_type": "code",
   "execution_count": 22,
   "metadata": {
    "collapsed": true
   },
   "outputs": [],
   "source": [
    "VGG16_model.load_weights('saved_models/weights.best.VGG16.hdf5')"
   ]
  },
  {
   "cell_type": "markdown",
   "metadata": {},
   "source": [
    "### Test the Model\n",
    "\n",
    "In the code cell below, we test our second CNN model (using transfer learning of VGG16) on the testing data set of driver images. The prediction probability results of all the test images are written into the csv file: **CNN_VGG16_test_probability.csv**, following the submission format defined by Kaggle.\n",
    "\n",
    "**The score (evaluation metrics: logarithmic loss function) of our second CNN model (using transfer learning of VGG16) is .**\n",
    "\n",
    "**The test result of our second CNN model (using transfer learning of VGG16) is ranked    out of 1440 in public leader board.**"
   ]
  },
  {
   "cell_type": "code",
   "execution_count": 23,
   "metadata": {
    "collapsed": false
   },
   "outputs": [
    {
     "name": "stderr",
     "output_type": "stream",
     "text": [
      "\n",
      "  0%|                                                                                        | 0/79726 [00:00<?, ?it/s]\n",
      "  0%|                                                                             | 1/79726 [00:00<20:21:41,  1.09it/s]\n",
      "  0%|                                                                             | 2/79726 [00:01<18:03:29,  1.23it/s]\n",
      "  0%|                                                                             | 3/79726 [00:01<15:53:43,  1.39it/s]\n",
      "  0%|                                                                             | 4/79726 [00:02<14:39:29,  1.51it/s]\n",
      "  0%|                                                                             | 5/79726 [00:03<13:46:13,  1.61it/s]\n",
      "  0%|                                                                             | 6/79726 [00:03<13:53:30,  1.59it/s]\n",
      "  0%|                                                                             | 7/79726 [00:04<13:08:54,  1.68it/s]\n",
      "  0%|                                                                             | 8/79726 [00:04<12:25:39,  1.78it/s]\n",
      "  0%|                                                                             | 9/79726 [00:05<12:03:07,  1.84it/s]\n",
      "  0%|                                                                            | 10/79726 [00:05<12:18:34,  1.80it/s]\n",
      "  0%|                                                                            | 11/79726 [00:06<12:37:22,  1.75it/s]\n",
      "  0%|                                                                           | 128/79726 [01:03<10:40:41,  2.07it/s]"
     ]
    },
    {
     "ename": "KeyboardInterrupt",
     "evalue": "",
     "output_type": "error",
     "traceback": [
      "\u001b[0;31m---------------------------------------------------------------------------\u001b[0m",
      "\u001b[0;31mKeyboardInterrupt\u001b[0m                         Traceback (most recent call last)",
      "\u001b[0;32m<ipython-input-23-739f86b9f66e>\u001b[0m in \u001b[0;36m<module>\u001b[0;34m()\u001b[0m\n\u001b[1;32m      3\u001b[0m     \u001b[0mtest_tensor\u001b[0m \u001b[1;33m=\u001b[0m \u001b[0mpath_to_tensor\u001b[0m\u001b[1;33m(\u001b[0m\u001b[0mtest_file\u001b[0m\u001b[1;33m)\u001b[0m\u001b[1;33m\u001b[0m\u001b[0m\n\u001b[1;32m      4\u001b[0m     \u001b[0mtest_tensor\u001b[0m \u001b[1;33m=\u001b[0m \u001b[0mnp\u001b[0m\u001b[1;33m.\u001b[0m\u001b[0mvstack\u001b[0m\u001b[1;33m(\u001b[0m\u001b[0mtest_tensor\u001b[0m\u001b[1;33m)\u001b[0m\u001b[1;33m.\u001b[0m\u001b[0mastype\u001b[0m\u001b[1;33m(\u001b[0m\u001b[1;34m'float32'\u001b[0m\u001b[1;33m)\u001b[0m\u001b[1;33m/\u001b[0m\u001b[1;36m255\u001b[0m\u001b[1;33m\u001b[0m\u001b[0m\n\u001b[0;32m----> 5\u001b[0;31m     \u001b[0mtest_bottleneck_feature\u001b[0m \u001b[1;33m=\u001b[0m \u001b[0mmodel\u001b[0m\u001b[1;33m.\u001b[0m\u001b[0mpredict\u001b[0m\u001b[1;33m(\u001b[0m\u001b[0mnp\u001b[0m\u001b[1;33m.\u001b[0m\u001b[0mexpand_dims\u001b[0m\u001b[1;33m(\u001b[0m\u001b[0mtest_tensor\u001b[0m\u001b[1;33m,\u001b[0m \u001b[0maxis\u001b[0m\u001b[1;33m=\u001b[0m\u001b[1;36m0\u001b[0m\u001b[1;33m)\u001b[0m\u001b[1;33m)\u001b[0m\u001b[1;33m[\u001b[0m\u001b[1;36m0\u001b[0m\u001b[1;33m]\u001b[0m\u001b[1;33m\u001b[0m\u001b[0m\n\u001b[0m\u001b[1;32m      6\u001b[0m     \u001b[0mdriver_behavior_predictions\u001b[0m\u001b[1;33m.\u001b[0m\u001b[0mappend\u001b[0m\u001b[1;33m(\u001b[0m\u001b[0mVGG16_model\u001b[0m\u001b[1;33m.\u001b[0m\u001b[0mpredict\u001b[0m\u001b[1;33m(\u001b[0m\u001b[0mnp\u001b[0m\u001b[1;33m.\u001b[0m\u001b[0mexpand_dims\u001b[0m\u001b[1;33m(\u001b[0m\u001b[0mtest_bottleneck_feature\u001b[0m\u001b[1;33m,\u001b[0m \u001b[0maxis\u001b[0m\u001b[1;33m=\u001b[0m\u001b[1;36m0\u001b[0m\u001b[1;33m)\u001b[0m\u001b[1;33m)\u001b[0m\u001b[1;33m[\u001b[0m\u001b[1;36m0\u001b[0m\u001b[1;33m]\u001b[0m\u001b[1;33m)\u001b[0m\u001b[1;33m\u001b[0m\u001b[0m\n\u001b[1;32m      7\u001b[0m \u001b[1;33m\u001b[0m\u001b[0m\n",
      "\u001b[0;32mC:\\Program Files\\Anaconda3\\lib\\site-packages\\keras\\engine\\training.py\u001b[0m in \u001b[0;36mpredict\u001b[0;34m(self, x, batch_size, verbose, steps)\u001b[0m\n\u001b[1;32m   1708\u001b[0m         \u001b[0mf\u001b[0m \u001b[1;33m=\u001b[0m \u001b[0mself\u001b[0m\u001b[1;33m.\u001b[0m\u001b[0mpredict_function\u001b[0m\u001b[1;33m\u001b[0m\u001b[0m\n\u001b[1;32m   1709\u001b[0m         return self._predict_loop(f, ins, batch_size=batch_size,\n\u001b[0;32m-> 1710\u001b[0;31m                                   verbose=verbose, steps=steps)\n\u001b[0m\u001b[1;32m   1711\u001b[0m \u001b[1;33m\u001b[0m\u001b[0m\n\u001b[1;32m   1712\u001b[0m     def train_on_batch(self, x, y,\n",
      "\u001b[0;32mC:\\Program Files\\Anaconda3\\lib\\site-packages\\keras\\engine\\training.py\u001b[0m in \u001b[0;36m_predict_loop\u001b[0;34m(self, f, ins, batch_size, verbose, steps)\u001b[0m\n\u001b[1;32m   1266\u001b[0m                 \u001b[1;32melse\u001b[0m\u001b[1;33m:\u001b[0m\u001b[1;33m\u001b[0m\u001b[0m\n\u001b[1;32m   1267\u001b[0m                     \u001b[0mins_batch\u001b[0m \u001b[1;33m=\u001b[0m \u001b[0m_slice_arrays\u001b[0m\u001b[1;33m(\u001b[0m\u001b[0mins\u001b[0m\u001b[1;33m,\u001b[0m \u001b[0mbatch_ids\u001b[0m\u001b[1;33m)\u001b[0m\u001b[1;33m\u001b[0m\u001b[0m\n\u001b[0;32m-> 1268\u001b[0;31m                 \u001b[0mbatch_outs\u001b[0m \u001b[1;33m=\u001b[0m \u001b[0mf\u001b[0m\u001b[1;33m(\u001b[0m\u001b[0mins_batch\u001b[0m\u001b[1;33m)\u001b[0m\u001b[1;33m\u001b[0m\u001b[0m\n\u001b[0m\u001b[1;32m   1269\u001b[0m                 \u001b[1;32mif\u001b[0m \u001b[1;32mnot\u001b[0m \u001b[0misinstance\u001b[0m\u001b[1;33m(\u001b[0m\u001b[0mbatch_outs\u001b[0m\u001b[1;33m,\u001b[0m \u001b[0mlist\u001b[0m\u001b[1;33m)\u001b[0m\u001b[1;33m:\u001b[0m\u001b[1;33m\u001b[0m\u001b[0m\n\u001b[1;32m   1270\u001b[0m                     \u001b[0mbatch_outs\u001b[0m \u001b[1;33m=\u001b[0m \u001b[1;33m[\u001b[0m\u001b[0mbatch_outs\u001b[0m\u001b[1;33m]\u001b[0m\u001b[1;33m\u001b[0m\u001b[0m\n",
      "\u001b[0;32mC:\\Program Files\\Anaconda3\\lib\\site-packages\\keras\\backend\\tensorflow_backend.py\u001b[0m in \u001b[0;36m__call__\u001b[0;34m(self, inputs)\u001b[0m\n\u001b[1;32m   2268\u001b[0m         updated = session.run(self.outputs + [self.updates_op],\n\u001b[1;32m   2269\u001b[0m                               \u001b[0mfeed_dict\u001b[0m\u001b[1;33m=\u001b[0m\u001b[0mfeed_dict\u001b[0m\u001b[1;33m,\u001b[0m\u001b[1;33m\u001b[0m\u001b[0m\n\u001b[0;32m-> 2270\u001b[0;31m                               **self.session_kwargs)\n\u001b[0m\u001b[1;32m   2271\u001b[0m         \u001b[1;32mreturn\u001b[0m \u001b[0mupdated\u001b[0m\u001b[1;33m[\u001b[0m\u001b[1;33m:\u001b[0m\u001b[0mlen\u001b[0m\u001b[1;33m(\u001b[0m\u001b[0mself\u001b[0m\u001b[1;33m.\u001b[0m\u001b[0moutputs\u001b[0m\u001b[1;33m)\u001b[0m\u001b[1;33m]\u001b[0m\u001b[1;33m\u001b[0m\u001b[0m\n\u001b[1;32m   2272\u001b[0m \u001b[1;33m\u001b[0m\u001b[0m\n",
      "\u001b[0;32mC:\\Program Files\\Anaconda3\\lib\\site-packages\\tensorflow\\python\\client\\session.py\u001b[0m in \u001b[0;36mrun\u001b[0;34m(self, fetches, feed_dict, options, run_metadata)\u001b[0m\n\u001b[1;32m    787\u001b[0m     \u001b[1;32mtry\u001b[0m\u001b[1;33m:\u001b[0m\u001b[1;33m\u001b[0m\u001b[0m\n\u001b[1;32m    788\u001b[0m       result = self._run(None, fetches, feed_dict, options_ptr,\n\u001b[0;32m--> 789\u001b[0;31m                          run_metadata_ptr)\n\u001b[0m\u001b[1;32m    790\u001b[0m       \u001b[1;32mif\u001b[0m \u001b[0mrun_metadata\u001b[0m\u001b[1;33m:\u001b[0m\u001b[1;33m\u001b[0m\u001b[0m\n\u001b[1;32m    791\u001b[0m         \u001b[0mproto_data\u001b[0m \u001b[1;33m=\u001b[0m \u001b[0mtf_session\u001b[0m\u001b[1;33m.\u001b[0m\u001b[0mTF_GetBuffer\u001b[0m\u001b[1;33m(\u001b[0m\u001b[0mrun_metadata_ptr\u001b[0m\u001b[1;33m)\u001b[0m\u001b[1;33m\u001b[0m\u001b[0m\n",
      "\u001b[0;32mC:\\Program Files\\Anaconda3\\lib\\site-packages\\tensorflow\\python\\client\\session.py\u001b[0m in \u001b[0;36m_run\u001b[0;34m(self, handle, fetches, feed_dict, options, run_metadata)\u001b[0m\n\u001b[1;32m    995\u001b[0m     \u001b[1;32mif\u001b[0m \u001b[0mfinal_fetches\u001b[0m \u001b[1;32mor\u001b[0m \u001b[0mfinal_targets\u001b[0m\u001b[1;33m:\u001b[0m\u001b[1;33m\u001b[0m\u001b[0m\n\u001b[1;32m    996\u001b[0m       results = self._do_run(handle, final_targets, final_fetches,\n\u001b[0;32m--> 997\u001b[0;31m                              feed_dict_string, options, run_metadata)\n\u001b[0m\u001b[1;32m    998\u001b[0m     \u001b[1;32melse\u001b[0m\u001b[1;33m:\u001b[0m\u001b[1;33m\u001b[0m\u001b[0m\n\u001b[1;32m    999\u001b[0m       \u001b[0mresults\u001b[0m \u001b[1;33m=\u001b[0m \u001b[1;33m[\u001b[0m\u001b[1;33m]\u001b[0m\u001b[1;33m\u001b[0m\u001b[0m\n",
      "\u001b[0;32mC:\\Program Files\\Anaconda3\\lib\\site-packages\\tensorflow\\python\\client\\session.py\u001b[0m in \u001b[0;36m_do_run\u001b[0;34m(self, handle, target_list, fetch_list, feed_dict, options, run_metadata)\u001b[0m\n\u001b[1;32m   1130\u001b[0m     \u001b[1;32mif\u001b[0m \u001b[0mhandle\u001b[0m \u001b[1;32mis\u001b[0m \u001b[1;32mNone\u001b[0m\u001b[1;33m:\u001b[0m\u001b[1;33m\u001b[0m\u001b[0m\n\u001b[1;32m   1131\u001b[0m       return self._do_call(_run_fn, self._session, feed_dict, fetch_list,\n\u001b[0;32m-> 1132\u001b[0;31m                            target_list, options, run_metadata)\n\u001b[0m\u001b[1;32m   1133\u001b[0m     \u001b[1;32melse\u001b[0m\u001b[1;33m:\u001b[0m\u001b[1;33m\u001b[0m\u001b[0m\n\u001b[1;32m   1134\u001b[0m       return self._do_call(_prun_fn, self._session, handle, feed_dict,\n",
      "\u001b[0;32mC:\\Program Files\\Anaconda3\\lib\\site-packages\\tensorflow\\python\\client\\session.py\u001b[0m in \u001b[0;36m_do_call\u001b[0;34m(self, fn, *args)\u001b[0m\n\u001b[1;32m   1137\u001b[0m   \u001b[1;32mdef\u001b[0m \u001b[0m_do_call\u001b[0m\u001b[1;33m(\u001b[0m\u001b[0mself\u001b[0m\u001b[1;33m,\u001b[0m \u001b[0mfn\u001b[0m\u001b[1;33m,\u001b[0m \u001b[1;33m*\u001b[0m\u001b[0margs\u001b[0m\u001b[1;33m)\u001b[0m\u001b[1;33m:\u001b[0m\u001b[1;33m\u001b[0m\u001b[0m\n\u001b[1;32m   1138\u001b[0m     \u001b[1;32mtry\u001b[0m\u001b[1;33m:\u001b[0m\u001b[1;33m\u001b[0m\u001b[0m\n\u001b[0;32m-> 1139\u001b[0;31m       \u001b[1;32mreturn\u001b[0m \u001b[0mfn\u001b[0m\u001b[1;33m(\u001b[0m\u001b[1;33m*\u001b[0m\u001b[0margs\u001b[0m\u001b[1;33m)\u001b[0m\u001b[1;33m\u001b[0m\u001b[0m\n\u001b[0m\u001b[1;32m   1140\u001b[0m     \u001b[1;32mexcept\u001b[0m \u001b[0merrors\u001b[0m\u001b[1;33m.\u001b[0m\u001b[0mOpError\u001b[0m \u001b[1;32mas\u001b[0m \u001b[0me\u001b[0m\u001b[1;33m:\u001b[0m\u001b[1;33m\u001b[0m\u001b[0m\n\u001b[1;32m   1141\u001b[0m       \u001b[0mmessage\u001b[0m \u001b[1;33m=\u001b[0m \u001b[0mcompat\u001b[0m\u001b[1;33m.\u001b[0m\u001b[0mas_text\u001b[0m\u001b[1;33m(\u001b[0m\u001b[0me\u001b[0m\u001b[1;33m.\u001b[0m\u001b[0mmessage\u001b[0m\u001b[1;33m)\u001b[0m\u001b[1;33m\u001b[0m\u001b[0m\n",
      "\u001b[0;32mC:\\Program Files\\Anaconda3\\lib\\site-packages\\tensorflow\\python\\client\\session.py\u001b[0m in \u001b[0;36m_run_fn\u001b[0;34m(session, feed_dict, fetch_list, target_list, options, run_metadata)\u001b[0m\n\u001b[1;32m   1119\u001b[0m         return tf_session.TF_Run(session, options,\n\u001b[1;32m   1120\u001b[0m                                  \u001b[0mfeed_dict\u001b[0m\u001b[1;33m,\u001b[0m \u001b[0mfetch_list\u001b[0m\u001b[1;33m,\u001b[0m \u001b[0mtarget_list\u001b[0m\u001b[1;33m,\u001b[0m\u001b[1;33m\u001b[0m\u001b[0m\n\u001b[0;32m-> 1121\u001b[0;31m                                  status, run_metadata)\n\u001b[0m\u001b[1;32m   1122\u001b[0m \u001b[1;33m\u001b[0m\u001b[0m\n\u001b[1;32m   1123\u001b[0m     \u001b[1;32mdef\u001b[0m \u001b[0m_prun_fn\u001b[0m\u001b[1;33m(\u001b[0m\u001b[0msession\u001b[0m\u001b[1;33m,\u001b[0m \u001b[0mhandle\u001b[0m\u001b[1;33m,\u001b[0m \u001b[0mfeed_dict\u001b[0m\u001b[1;33m,\u001b[0m \u001b[0mfetch_list\u001b[0m\u001b[1;33m)\u001b[0m\u001b[1;33m:\u001b[0m\u001b[1;33m\u001b[0m\u001b[0m\n",
      "\u001b[0;31mKeyboardInterrupt\u001b[0m: "
     ]
    }
   ],
   "source": [
    "driver_behavior_predictions = []\n",
    "for test_file in tqdm(test_files):\n",
    "    test_tensor = path_to_tensor(test_file)\n",
    "    test_tensor = np.vstack(test_tensor).astype('float32')/255\n",
    "    test_bottleneck_feature = model.predict(np.expand_dims(test_tensor, axis=0))[0]\n",
    "    driver_behavior_predictions.append(VGG16_model.predict(np.expand_dims(test_bottleneck_feature, axis=0))[0])\n",
    "\n",
    "test_image_probability_csv = np.column_stack((np.asarray(test_image_filename_list), \\\n",
    "                                              np.asarray(driver_behavior_predictions, dtype=np.float32)))\n",
    "\n",
    "np.savetxt('submission/CNN_VGG16_test_probability.csv', test_image_probability_csv, delimiter=',', \\\n",
    "           comments='', newline='\\n', fmt='%s', header='img,c0,c1,c2,c3,c4,c5,c6,c7,c8,c9')\n",
    "\n",
    "# get index of predicted dog breed for each image in test set\n",
    "#VGG16_predictions = [np.argmax(VGG16_model.predict(np.expand_dims(feature, axis=0))) for feature in test_VGG16]\n",
    "\n",
    "# report test accuracy\n",
    "#test_accuracy = 100*np.sum(np.array(VGG16_predictions)==np.argmax(test_targets, axis=1))/len(VGG16_predictions)\n",
    "#print('Test accuracy: %.4f%%' % test_accuracy)"
   ]
  },
  {
   "cell_type": "code",
   "execution_count": null,
   "metadata": {
    "collapsed": false
   },
   "outputs": [],
   "source": [
    "#from extract_bottleneck_features import *\n",
    "\n",
    "#def VGG16_predict_breed(img_path):\n",
    "#    # extract bottleneck features\n",
    "#    bottleneck_feature = extract_VGG16(path_to_tensor(img_path))\n",
    "#    # obtain predicted vector\n",
    "#    predicted_vector = VGG16_model.predict(bottleneck_feature)\n",
    "#    # return dog breed that is predicted by the model\n",
    "#    return dog_names[np.argmax(predicted_vector)]"
   ]
  },
  {
   "cell_type": "markdown",
   "metadata": {},
   "source": [
    "---\n",
    "<a id='step4'></a>\n",
    "## Step 4: Create a CNN to classify driver images (using transfer learning)\n",
    "\n",
    "In this step, instead of VGG-16, we may try to use the other pre-trained model, like VGG19, Resnet50, InceptionV3, or Xception, for different model choice of transfer learning. We can compare\n",
    "the chosen CNN model with the above one (VGG-16) and check the difference between their prediction scores.\n",
    "\n",
    "Here we choose ResNet50 to be the CNN model of transfer learning below."
   ]
  },
  {
   "cell_type": "markdown",
   "metadata": {},
   "source": [
    "## ResNet50\n",
    "### Obtain Bottleneck Features"
   ]
  },
  {
   "cell_type": "code",
   "execution_count": null,
   "metadata": {
    "collapsed": false
   },
   "outputs": [],
   "source": [
    "from keras.applications.resnet50 import ResNet50\n",
    "\n",
    "# https://keras.io/applications/#resnet50\n",
    "# NOT include the fully-connected layer at the top of the network.\n",
    "model = ResNet50(include_top=False)\n",
    "\n",
    "model.summary()"
   ]
  },
  {
   "cell_type": "code",
   "execution_count": null,
   "metadata": {
    "collapsed": false
   },
   "outputs": [],
   "source": [
    "bottleneck_features_train = \\\n",
    "        np.asarray([model.predict(np.expand_dims(train_tensor, axis=0))[0] for train_tensor in train_tensors], dtype=np.float32)\n",
    "\n",
    "bottleneck_features_valid = \\\n",
    "        np.asarray([model.predict(np.expand_dims(valid_tensor, axis=0))[0] for valid_tensor in valid_tensors], dtype=np.float32)"
   ]
  },
  {
   "cell_type": "code",
   "execution_count": null,
   "metadata": {
    "collapsed": true
   },
   "outputs": [],
   "source": [
    "np.save(open('bottleneck_features/driver_ResNet50_train.npy', 'wb'), bottleneck_features_train)\n",
    "np.save(open('bottleneck_features/driver_ResNet50_valid.npy', 'wb'), bottleneck_features_valid)"
   ]
  },
  {
   "cell_type": "code",
   "execution_count": null,
   "metadata": {
    "collapsed": true
   },
   "outputs": [],
   "source": [
    "# bottleneck_features_train = np.load('bottleneck_features/driver_ResNet50_train.npy')\n",
    "# bottleneck_features_valid = np.load('bottleneck_features/driver_ResNet50_valid.npy')"
   ]
  },
  {
   "cell_type": "markdown",
   "metadata": {},
   "source": [
    "### Model Architecture"
   ]
  },
  {
   "cell_type": "code",
   "execution_count": null,
   "metadata": {
    "collapsed": false
   },
   "outputs": [],
   "source": [
    "ResNet50_model = Sequential()\n",
    "\n",
    "ResNet50_model.add(GlobalAveragePooling2D(input_shape=bottleneck_features_train.shape[1:]))\n",
    "\n",
    "ResNet50_model.add(Dense(64))\n",
    "ResNet50_model.add(BatchNormalization())\n",
    "ResNet50_model.add(Activation('relu'))\n",
    "ResNet50_model.add(Dropout(0.2))\n",
    "\n",
    "ResNet50_model.add(Dense(10))\n",
    "ResNet50_model.add(BatchNormalization())\n",
    "ResNet50_model.add(Activation('softmax'))\n",
    "\n",
    "ResNet50_model.summary()"
   ]
  },
  {
   "cell_type": "markdown",
   "metadata": {},
   "source": [
    "### Compile the Model"
   ]
  },
  {
   "cell_type": "code",
   "execution_count": null,
   "metadata": {
    "collapsed": true
   },
   "outputs": [],
   "source": [
    "ResNet50_model.compile(loss='categorical_crossentropy', optimizer='rmsprop', metrics=['accuracy'])"
   ]
  },
  {
   "cell_type": "markdown",
   "metadata": {},
   "source": [
    "### Train the Model"
   ]
  },
  {
   "cell_type": "code",
   "execution_count": null,
   "metadata": {
    "collapsed": false
   },
   "outputs": [],
   "source": [
    "checkpointer = ModelCheckpoint(filepath='saved_models/weights.best.ResNet50.hdf5', \n",
    "                               verbose=1, save_best_only=True)\n",
    "\n",
    "ResNet50_model.fit(bottleneck_features_train, train_targets, \n",
    "                   validation_data=(bottleneck_features_valid, valid_targets),\n",
    "                   epochs=20, batch_size=20, callbacks=[checkpointer], verbose=1)"
   ]
  },
  {
   "cell_type": "markdown",
   "metadata": {},
   "source": [
    "### Load the Model with the Best Validation Loss"
   ]
  },
  {
   "cell_type": "code",
   "execution_count": null,
   "metadata": {
    "collapsed": true
   },
   "outputs": [],
   "source": [
    "ResNet50_model.load_weights('saved_models/weights.best.ResNet50.hdf5')"
   ]
  },
  {
   "cell_type": "markdown",
   "metadata": {},
   "source": [
    "### Test the Model\n",
    "\n",
    "In the code cell below, we test our CNN model using transfer learning of ResNet50 on the testing data set of driver images. The prediction probability results of all the test images are written into the csv file: **CNN_ResNet50_test_probability.csv**, following the submission format defined by Kaggle.\n",
    "\n",
    "**The score (evaluation metrics: logarithmic loss function) of our CNN model using transfer learning of ResNet50 is .**\n",
    "\n",
    "**The test result of our CNN model using transfer learning of ResNet50 is ranked    out of 1440 in public leader board.**"
   ]
  },
  {
   "cell_type": "code",
   "execution_count": null,
   "metadata": {
    "collapsed": false
   },
   "outputs": [],
   "source": [
    "driver_behavior_predictions = []\n",
    "for test_file in tqdm(test_files):\n",
    "    test_tensor = path_to_tensor(test_file)\n",
    "    test_tensor = np.vstack(test_tensor).astype('float32')/255\n",
    "    test_bottleneck_feature = model.predict(np.expand_dims(test_tensor, axis=0))[0]\n",
    "    driver_behavior_predictions.append(ResNet50_model.predict(np.expand_dims(test_bottleneck_feature, axis=0))[0])\n",
    "\n",
    "test_image_probability_csv = np.column_stack((np.asarray(test_image_filename_list), \\\n",
    "                                              np.asarray(driver_behavior_predictions, dtype=np.float32)))\n",
    "\n",
    "np.savetxt('submission/CNN_ResNet50_test_probability.csv', test_image_probability_csv, delimiter=',', \\\n",
    "           comments='', newline='\\n', fmt='%s', header='img,c0,c1,c2,c3,c4,c5,c6,c7,c8,c9')\n",
    "\n",
    "# get index of predicted dog breed for each image in test set\n",
    "#VGG16_predictions = [np.argmax(VGG16_model.predict(np.expand_dims(feature, axis=0))) for feature in test_VGG16]\n",
    "\n",
    "# report test accuracy\n",
    "#test_accuracy = 100*np.sum(np.array(VGG16_predictions)==np.argmax(test_targets, axis=1))/len(VGG16_predictions)\n",
    "#print('Test accuracy: %.4f%%' % test_accuracy)"
   ]
  },
  {
   "cell_type": "code",
   "execution_count": null,
   "metadata": {
    "collapsed": true
   },
   "outputs": [],
   "source": [
    "#def Resnet50_predict_breed(img_path):\n",
    "#    # extract bottleneck features\n",
    "#    # VGG19, Resnet50, InceptionV3, or Xception\n",
    "#    bottleneck_feature = extract_Resnet50(path_to_tensor(img_path))\n",
    "#    # obtain predicted vector\n",
    "#    predicted_vector = Resnet50_model.predict(bottleneck_feature)\n",
    "#    # return dog breed that is predicted by the model\n",
    "#    return dog_names[np.argmax(predicted_vector)]"
   ]
  },
  {
   "cell_type": "markdown",
   "metadata": {},
   "source": [
    "---\n",
    "<a id='step5'></a>\n",
    "## Step 5: Algorithm test result\n",
    "\n",
    "We choose the best result (the lowest score of the evaluation metric of log-loss error function) among the CNN models we\n",
    "construct above to be the final output of our proposed algorithm.\n",
    "\n",
    "**The CNN model we construct above with the lowest score of log-loss function is:  , and this CNN model has the score of  .**"
   ]
  },
  {
   "cell_type": "code",
   "execution_count": null,
   "metadata": {
    "collapsed": true
   },
   "outputs": [],
   "source": []
  }
 ],
 "metadata": {
  "anaconda-cloud": {},
  "kernelspec": {
   "display_name": "Python [default]",
   "language": "python",
   "name": "python3"
  },
  "language_info": {
   "codemirror_mode": {
    "name": "ipython",
    "version": 3
   },
   "file_extension": ".py",
   "mimetype": "text/x-python",
   "name": "python",
   "nbconvert_exporter": "python",
   "pygments_lexer": "ipython3",
   "version": "3.5.2"
  }
 },
 "nbformat": 4,
 "nbformat_minor": 1
}
