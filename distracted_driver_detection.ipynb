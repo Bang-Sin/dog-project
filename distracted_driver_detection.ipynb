{
 "cells": [
  {
   "cell_type": "markdown",
   "metadata": {},
   "source": [
    "# Udacity Machine Learning Capstone Project\n",
    "\n",
    "## State Farm Distracted Driver Detection (Can computer vision spot distracted drivers?)\n",
    "\n",
    "---\n",
    "### The Road Ahead\n",
    "\n",
    "We break the notebook into separate steps.  Feel free to use the links below to navigate the notebook.\n",
    "\n",
    "* [Step 0](#step0): Import Datasets\n",
    "* [Step 1](#step1): Data Analysis and Preprocessing\n",
    "* [Step 2](#step2): Create a CNN to classify driver images (from scratch)\n",
    "* [Step 3](#step3): Use a CNN to classify driver images (using transfer learning)\n",
    "* [Step 4](#step4): Create a CNN to classify driver images (using transfer learning)\n",
    "* [Step 5](#step5): Algorithm test result\n",
    "\n",
    "---\n",
    "<a id='step0'></a>\n",
    "## Step 0: Import Datasets\n",
    "\n",
    "### Import Driver Image Dataset\n",
    "\n",
    "In the code cell below, we import a dataset of driver images. We populate a few variables through the use of the `load_files` function from the scikit-learn library:\n",
    "- `train_files`, `valid_files`, `test_files` - numpy arrays containing file paths to images\n",
    "- `train_targets`, `valid_targets`, `test_targets` - numpy arrays containing onehot-encoded classification labels \n",
    "- `label_names` - list of string-valued label codes of driver behaviors for translating labels :\n",
    "\n",
    "    * c0: normal driving\n",
    "    * c1: texting - right\n",
    "    * c2: talking on the phone - right\n",
    "    * c3: texting - left\n",
    "    * c4: talking on the phone - left\n",
    "    * c5: operating the radio\n",
    "    * c6: drinking\n",
    "    * c7: reaching behind\n",
    "    * c8: hair and makeup\n",
    "    * c9: talking to passenger"
   ]
  },
  {
   "cell_type": "code",
   "execution_count": 1,
   "metadata": {
    "collapsed": false
   },
   "outputs": [
    {
     "name": "stderr",
     "output_type": "stream",
     "text": [
      "Using TensorFlow backend.\n"
     ]
    },
    {
     "name": "stdout",
     "output_type": "stream",
     "text": [
      "There are 102150 total driver images provided by State Farm:\n",
      "22424 train driver images\n",
      "79726 test driver images\n",
      "\n",
      "There are 10 total driver behavior categories.\n"
     ]
    }
   ],
   "source": [
    "from sklearn.datasets import load_files       \n",
    "from keras.utils import np_utils\n",
    "import numpy as np\n",
    "from glob import glob\n",
    "from sklearn.cross_validation import train_test_split\n",
    "\n",
    "# define function to load train and test image datasets provided by State Farm\n",
    "def load_dataset(path):\n",
    "    data = load_files(path)\n",
    "    driver_files = np.array(data['filenames'])\n",
    "    driver_targets = np_utils.to_categorical(np.array(data['target']), 10)\n",
    "    return driver_files, driver_targets\n",
    "\n",
    "# load original train and test datasets provided by State Farm\n",
    "input_train_files, input_train_targets = load_dataset('imgs/train')\n",
    "input_test_files, input_test_targets = load_dataset('imgs/test')\n",
    "\n",
    "print('There are %s total driver images provided by State Farm:' % len(np.hstack([input_train_files, input_test_files])))\n",
    "print('%d train driver images' % len(input_train_files))\n",
    "print('%d test driver images\\n' % len(input_test_files))\n",
    "\n",
    "# load list of label codes of driver behaviors\n",
    "label_names = [item[11:13] for item in sorted(glob(\"imgs/train/*/\"))]\n",
    "\n",
    "print('There are %d total driver behavior categories.' % len(label_names))\n",
    "\n",
    "del input_test_targets"
   ]
  },
  {
   "cell_type": "code",
   "execution_count": 2,
   "metadata": {
    "collapsed": false
   },
   "outputs": [
    {
     "name": "stdout",
     "output_type": "stream",
     "text": [
      "To avoid running out of memory,\n",
      "we select 8969 images from original train set\n",
      "and ignore the remaining 13455 images.\n",
      "\n",
      "Among the 8969 randomly selected images,\n",
      "we use 7175 images for training and\n",
      "we use 1794 images for validation.\n"
     ]
    }
   ],
   "source": [
    "# Since the number of driver images in original train data set provided by State Farm is too large, for avoidance of \n",
    "# running out of computer memory when we transform them into tensors to feed and train the CNN models, \n",
    "# we randomly sample a particular ratio (0.4) of them to use, and ignore the remaining portion (ratio 0.6).\n",
    "use_files, non_use_files, use_targets, non_use_targets = \\\n",
    "            train_test_split(input_train_files, input_train_targets, test_size=0.6, random_state=5)\n",
    "\n",
    "print('To avoid running out of memory,')\n",
    "print('we select %s images from original train set' % len(use_files))\n",
    "print('and ignore the remaining %s images.\\n' % len(non_use_files))\n",
    "\n",
    "# shuffle and split the sampled \"use\" dataset into training set and validation set\n",
    "train_files, valid_files, train_targets, valid_targets = \\\n",
    "            train_test_split(use_files, use_targets, test_size=0.2, random_state=5)\n",
    "\n",
    "print('Among the %s randomly selected images,' % len(use_files))\n",
    "print('we use %d images for training and' % len(train_files))\n",
    "print('we use %d images for validation.' % len(valid_files))\n",
    "\n",
    "del use_files, non_use_files, use_targets, non_use_targets"
   ]
  },
  {
   "cell_type": "code",
   "execution_count": 6,
   "metadata": {
    "collapsed": false
   },
   "outputs": [],
   "source": [
    "test_image_filename_list = [test_file_path[15:] for test_file_path in input_test_files]"
   ]
  },
  {
   "cell_type": "markdown",
   "metadata": {},
   "source": [
    "---\n",
    "<a id='step1'></a>\n",
    "## Step 1: Data Analysis and Preprocessing\n",
    "\n",
    "### Data Analysis\n",
    "\n",
    "In the code cells below, we read the **driver_imgs_list.csv** file provided by State Farm. This csv file is a list of original training images, their subject (driver id), and classname (label id). We then analyze this original train data set. There is just a little bit size imbalance between different classes. Note that class 'c0' has the maximum number of 2489 images and class 'c8' has the minimum number of 1911 images among all the 10 classes."
   ]
  },
  {
   "cell_type": "code",
   "execution_count": 7,
   "metadata": {
    "collapsed": false
   },
   "outputs": [
    {
     "data": {
      "text/html": [
       "<div>\n",
       "<table border=\"1\" class=\"dataframe\">\n",
       "  <thead>\n",
       "    <tr style=\"text-align: right;\">\n",
       "      <th></th>\n",
       "      <th>subject</th>\n",
       "      <th>classname</th>\n",
       "      <th>img</th>\n",
       "    </tr>\n",
       "  </thead>\n",
       "  <tbody>\n",
       "    <tr>\n",
       "      <th>0</th>\n",
       "      <td>p002</td>\n",
       "      <td>c0</td>\n",
       "      <td>img_44733.jpg</td>\n",
       "    </tr>\n",
       "    <tr>\n",
       "      <th>1</th>\n",
       "      <td>p002</td>\n",
       "      <td>c0</td>\n",
       "      <td>img_72999.jpg</td>\n",
       "    </tr>\n",
       "    <tr>\n",
       "      <th>2</th>\n",
       "      <td>p002</td>\n",
       "      <td>c0</td>\n",
       "      <td>img_25094.jpg</td>\n",
       "    </tr>\n",
       "    <tr>\n",
       "      <th>3</th>\n",
       "      <td>p002</td>\n",
       "      <td>c0</td>\n",
       "      <td>img_69092.jpg</td>\n",
       "    </tr>\n",
       "    <tr>\n",
       "      <th>4</th>\n",
       "      <td>p002</td>\n",
       "      <td>c0</td>\n",
       "      <td>img_92629.jpg</td>\n",
       "    </tr>\n",
       "  </tbody>\n",
       "</table>\n",
       "</div>"
      ],
      "text/plain": [
       "  subject classname            img\n",
       "0    p002        c0  img_44733.jpg\n",
       "1    p002        c0  img_72999.jpg\n",
       "2    p002        c0  img_25094.jpg\n",
       "3    p002        c0  img_69092.jpg\n",
       "4    p002        c0  img_92629.jpg"
      ]
     },
     "metadata": {},
     "output_type": "display_data"
    }
   ],
   "source": [
    "import matplotlib.pyplot as plt\n",
    "%matplotlib inline\n",
    "\n",
    "import pandas as pd\n",
    "from IPython.display import display\n",
    "\n",
    "training_images_df = pd.read_csv(\"driver_imgs_list.csv\")\n",
    "display(training_images_df.head())"
   ]
  },
  {
   "cell_type": "code",
   "execution_count": 8,
   "metadata": {
    "collapsed": false
   },
   "outputs": [
    {
     "data": {
      "text/html": [
       "<div>\n",
       "<table border=\"1\" class=\"dataframe\">\n",
       "  <thead>\n",
       "    <tr style=\"text-align: right;\">\n",
       "      <th></th>\n",
       "      <th>subject</th>\n",
       "      <th>classname</th>\n",
       "      <th>img</th>\n",
       "    </tr>\n",
       "  </thead>\n",
       "  <tbody>\n",
       "    <tr>\n",
       "      <th>count</th>\n",
       "      <td>22424</td>\n",
       "      <td>22424</td>\n",
       "      <td>22424</td>\n",
       "    </tr>\n",
       "    <tr>\n",
       "      <th>unique</th>\n",
       "      <td>26</td>\n",
       "      <td>10</td>\n",
       "      <td>22424</td>\n",
       "    </tr>\n",
       "    <tr>\n",
       "      <th>top</th>\n",
       "      <td>p021</td>\n",
       "      <td>c0</td>\n",
       "      <td>img_90327.jpg</td>\n",
       "    </tr>\n",
       "    <tr>\n",
       "      <th>freq</th>\n",
       "      <td>1237</td>\n",
       "      <td>2489</td>\n",
       "      <td>1</td>\n",
       "    </tr>\n",
       "  </tbody>\n",
       "</table>\n",
       "</div>"
      ],
      "text/plain": [
       "       subject classname            img\n",
       "count    22424     22424          22424\n",
       "unique      26        10          22424\n",
       "top       p021        c0  img_90327.jpg\n",
       "freq      1237      2489              1"
      ]
     },
     "metadata": {},
     "output_type": "display_data"
    }
   ],
   "source": [
    "display(training_images_df.describe())"
   ]
  },
  {
   "cell_type": "code",
   "execution_count": 9,
   "metadata": {
    "collapsed": false
   },
   "outputs": [
    {
     "name": "stdout",
     "output_type": "stream",
     "text": [
      "c0    2489\n",
      "c3    2346\n",
      "c4    2326\n",
      "c6    2325\n",
      "c2    2317\n",
      "c5    2312\n",
      "c1    2267\n",
      "c9    2129\n",
      "c7    2002\n",
      "c8    1911\n",
      "Name: classname, dtype: int64\n"
     ]
    }
   ],
   "source": [
    "print(training_images_df['classname'].value_counts(sort=True))"
   ]
  },
  {
   "cell_type": "markdown",
   "metadata": {},
   "source": [
    "### Data Preprocessing\n",
    "\n",
    "When using TensorFlow as backend, Keras CNNs require a 4D array (which we'll also refer to as a 4D tensor) as input, with shape\n",
    "\n",
    "$$\n",
    "(\\text{nb_samples}, \\text{rows}, \\text{columns}, \\text{channels}),\n",
    "$$\n",
    "\n",
    "where `nb_samples` corresponds to the total number of images (or samples), and `rows`, `columns`, and `channels` correspond to the number of rows, columns, and channels for each image, respectively.  \n",
    "\n",
    "The `path_to_tensor` function below takes a string-valued file path to a color image as input and returns a 4D tensor suitable for supplying to a Keras CNN.  The function first loads the image and resizes it to a square image that is $224 \\times 224$ pixels.  Next, the image is converted to an array, which is then resized to a 4D tensor.  In this case, since we are working with color images, each image has three channels.  Likewise, since we are processing a single image (or sample), the returned tensor will always have shape\n",
    "\n",
    "$$\n",
    "(1, 224, 224, 3).\n",
    "$$\n",
    "\n",
    "The `paths_to_tensor` function takes a numpy array of string-valued image paths as input and returns a 4D tensor with shape \n",
    "\n",
    "$$\n",
    "(\\text{nb_samples}, 224, 224, 3).\n",
    "$$\n",
    "\n",
    "Here, `nb_samples` is the number of samples, or number of images, in the supplied array of image paths.  It is best to think of `nb_samples` as the number of 3D tensors (where each 3D tensor corresponds to a different image) in your dataset!"
   ]
  },
  {
   "cell_type": "code",
   "execution_count": 10,
   "metadata": {
    "collapsed": true
   },
   "outputs": [],
   "source": [
    "from keras.preprocessing import image                  \n",
    "from tqdm import tqdm\n",
    "\n",
    "def path_to_tensor(img_path):\n",
    "    # loads RGB image as PIL.Image.Image type\n",
    "    img = image.load_img(img_path, target_size=(224, 224))\n",
    "    # convert PIL.Image.Image type to 3D tensor with shape (224, 224, 3)\n",
    "    x = image.img_to_array(img)\n",
    "    # convert 3D tensor to 4D tensor with shape (1, 224, 224, 3) and return 4D tensor\n",
    "    return np.expand_dims(x, axis=0)\n",
    "\n",
    "def paths_to_tensor(img_paths):\n",
    "    list_of_tensors = [path_to_tensor(img_path) for img_path in tqdm(img_paths)]\n",
    "    return np.vstack(list_of_tensors)"
   ]
  },
  {
   "cell_type": "markdown",
   "metadata": {},
   "source": [
    "In the code cell below, we rescale the images by dividing every pixel in every image by 255."
   ]
  },
  {
   "cell_type": "code",
   "execution_count": 11,
   "metadata": {
    "collapsed": false
   },
   "outputs": [
    {
     "name": "stderr",
     "output_type": "stream",
     "text": [
      "100%|██████████████████████████████████████████████████████████████████████████████| 7175/7175 [01:27<00:00, 81.57it/s]\n",
      "100%|██████████████████████████████████████████████████████████████████████████████| 1794/1794 [00:21<00:00, 82.43it/s]\n"
     ]
    }
   ],
   "source": [
    "from PIL import ImageFile                            \n",
    "ImageFile.LOAD_TRUNCATED_IMAGES = True                 \n",
    "\n",
    "# pre-process the data for Keras\n",
    "train_tensors = paths_to_tensor(train_files).astype('float32')/255\n",
    "valid_tensors = paths_to_tensor(valid_files).astype('float32')/255\n",
    "\n",
    "#run out of memory\n",
    "#test_tensors = paths_to_tensor(input_test_files).astype('float32')/255"
   ]
  },
  {
   "cell_type": "markdown",
   "metadata": {},
   "source": [
    "---\n",
    "<a id='step2'></a>\n",
    "## Step 2: Create a CNN to classify driver images (from scratch)\n",
    "\n",
    "We will use Keras and Tensorflow to implement our CNN model. In this step, we will\n",
    "provide the first architecture of the CNN model we design. And then test the performance\n",
    "result of the first CNN model."
   ]
  },
  {
   "cell_type": "markdown",
   "metadata": {},
   "source": [
    "### Model Architecture\n",
    "\n",
    "We create a CNN to classify driver behaviors. At the end of code cell block, we summarize the layers of the CNN model by executing the line:\n",
    "    \n",
    "        model.summary()\n",
    "\n",
    "We use three convolotion layers followed by three max pooling layers interleavingly and then use two fully connected layers behind in the CNN architecture. We also adopt batch_normalization layer between each convolution layer or dense layer and their activation layer to avoid covariate shift and accelerate the training process. The number of filters in each convolution layer is twice to the previous one (this is a common practice), and we choose 16, 32, and 64 filters to extract the feature maps (regional information). The window size of feature filter in each convolution layer and also the pool size in each max pooling layer are both (2,2), and it's also a kind of typical choices. We set the padding parameter to be 'same' for not loss information near matrix boundaries. The activation function in each layer beside output is ReLU for dealing with the vanishing gradient problem, and that in output layer is SoftMax for calculation of probabilities on the multi-classes. In max pooling layers, we set the strides parameter to be 2 for half both length and width of each 2D feature map (dimension reduction), and such strides setting is typical. Before fully connected layers, we use the GlobalAveragePooling2D layer, which can immediately reduce the amount of parameters and avoid overfitting as well as save much time. We adopt the dropout layers with probability 0.2 to reduce opportunity of overfitting. We choose the number of nodes to be 64 in the first fully connected layer for initial try, and due to the 10 classes of driver behaviors, the number of nodes in output layer is 10."
   ]
  },
  {
   "cell_type": "code",
   "execution_count": 16,
   "metadata": {
    "collapsed": false
   },
   "outputs": [
    {
     "name": "stdout",
     "output_type": "stream",
     "text": [
      "_________________________________________________________________\n",
      "Layer (type)                 Output Shape              Param #   \n",
      "=================================================================\n",
      "conv2d_4 (Conv2D)            (None, 224, 224, 16)      208       \n",
      "_________________________________________________________________\n",
      "max_pooling2d_4 (MaxPooling2 (None, 112, 112, 16)      0         \n",
      "_________________________________________________________________\n",
      "batch_normalization_6 (Batch (None, 112, 112, 16)      64        \n",
      "_________________________________________________________________\n",
      "dropout_5 (Dropout)          (None, 112, 112, 16)      0         \n",
      "_________________________________________________________________\n",
      "conv2d_5 (Conv2D)            (None, 112, 112, 32)      2080      \n",
      "_________________________________________________________________\n",
      "max_pooling2d_5 (MaxPooling2 (None, 56, 56, 32)        0         \n",
      "_________________________________________________________________\n",
      "batch_normalization_7 (Batch (None, 56, 56, 32)        128       \n",
      "_________________________________________________________________\n",
      "dropout_6 (Dropout)          (None, 56, 56, 32)        0         \n",
      "_________________________________________________________________\n",
      "conv2d_6 (Conv2D)            (None, 56, 56, 64)        8256      \n",
      "_________________________________________________________________\n",
      "max_pooling2d_6 (MaxPooling2 (None, 28, 28, 64)        0         \n",
      "_________________________________________________________________\n",
      "batch_normalization_8 (Batch (None, 28, 28, 64)        256       \n",
      "_________________________________________________________________\n",
      "dropout_7 (Dropout)          (None, 28, 28, 64)        0         \n",
      "_________________________________________________________________\n",
      "global_average_pooling2d_2 ( (None, 64)                0         \n",
      "_________________________________________________________________\n",
      "dense_3 (Dense)              (None, 64)                4160      \n",
      "_________________________________________________________________\n",
      "batch_normalization_9 (Batch (None, 64)                256       \n",
      "_________________________________________________________________\n",
      "activation_3 (Activation)    (None, 64)                0         \n",
      "_________________________________________________________________\n",
      "dropout_8 (Dropout)          (None, 64)                0         \n",
      "_________________________________________________________________\n",
      "dense_4 (Dense)              (None, 10)                650       \n",
      "_________________________________________________________________\n",
      "batch_normalization_10 (Batc (None, 10)                40        \n",
      "_________________________________________________________________\n",
      "activation_4 (Activation)    (None, 10)                0         \n",
      "=================================================================\n",
      "Total params: 16,098\n",
      "Trainable params: 15,726\n",
      "Non-trainable params: 372\n",
      "_________________________________________________________________\n"
     ]
    }
   ],
   "source": [
    "from keras.layers import Conv2D, MaxPooling2D, GlobalAveragePooling2D\n",
    "from keras.layers import Dropout, Flatten, Dense, Activation\n",
    "from keras.models import Sequential\n",
    "from keras.layers.normalization import BatchNormalization\n",
    "\n",
    "model = Sequential()\n",
    "\n",
    "model.add(Conv2D(filters=16, kernel_size=2, padding='same', input_shape=(224, 224, 3), activation='relu'))\n",
    "model.add(MaxPooling2D(pool_size=2, strides=2, padding='same'))\n",
    "model.add(BatchNormalization())\n",
    "model.add(Dropout(0.2))\n",
    "\n",
    "model.add(Conv2D(filters=32, kernel_size=2, padding='same', activation='relu'))\n",
    "model.add(MaxPooling2D(pool_size=2, strides=2, padding='same'))\n",
    "model.add(BatchNormalization())\n",
    "model.add(Dropout(0.2))\n",
    "\n",
    "model.add(Conv2D(filters=64, kernel_size=2, padding='same', activation='relu'))\n",
    "model.add(MaxPooling2D(pool_size=2, strides=2, padding='same'))\n",
    "model.add(BatchNormalization())\n",
    "model.add(Dropout(0.2))\n",
    "\n",
    "model.add(GlobalAveragePooling2D())\n",
    "\n",
    "model.add(Dense(64))\n",
    "model.add(BatchNormalization())\n",
    "model.add(Activation('relu'))\n",
    "model.add(Dropout(0.2))\n",
    "\n",
    "model.add(Dense(10))\n",
    "model.add(BatchNormalization())\n",
    "model.add(Activation('softmax'))\n",
    "\n",
    "model.summary()"
   ]
  },
  {
   "cell_type": "markdown",
   "metadata": {},
   "source": [
    "### Compile the Model"
   ]
  },
  {
   "cell_type": "code",
   "execution_count": 17,
   "metadata": {
    "collapsed": true
   },
   "outputs": [],
   "source": [
    "model.compile(optimizer='rmsprop', loss='categorical_crossentropy', metrics=['accuracy'])"
   ]
  },
  {
   "cell_type": "markdown",
   "metadata": {},
   "source": [
    "### Train the Model\n",
    "\n",
    "We train the first CNN model we design in the code cell below. Use model checkpointing to save the model that attains the best validation loss."
   ]
  },
  {
   "cell_type": "code",
   "execution_count": null,
   "metadata": {
    "collapsed": false
   },
   "outputs": [
    {
     "name": "stdout",
     "output_type": "stream",
     "text": [
      "Train on 7175 samples, validate on 1794 samples\n",
      "Epoch 1/10\n",
      "7160/7175 [============================>.] - ETA: 1s - loss: 2.2045 - acc: 0.1996Epoch 00000: val_loss improved from inf to 3.07245, saving model to saved_models/weights.best.from_scratch.hdf5\n",
      "7175/7175 [==============================] - 1042s - loss: 2.2047 - acc: 0.1994 - val_loss: 3.0725 - val_acc: 0.1165\n",
      "Epoch 2/10\n",
      "7160/7175 [============================>.] - ETA: 1s - loss: 1.8863 - acc: 0.3193Epoch 00001: val_loss did not improve\n",
      "7175/7175 [==============================] - 1037s - loss: 1.8863 - acc: 0.3192 - val_loss: 3.1912 - val_acc: 0.1600\n",
      "Epoch 3/10\n",
      "7160/7175 [============================>.] - ETA: 1s - loss: 1.7288 - acc: 0.3851Epoch 00002: val_loss improved from 3.07245 to 2.58792, saving model to saved_models/weights.best.from_scratch.hdf5\n",
      "7175/7175 [==============================] - 1041s - loss: 1.7287 - acc: 0.3851 - val_loss: 2.5879 - val_acc: 0.2469\n",
      "Epoch 4/10\n",
      "7160/7175 [============================>.] - ETA: 1s - loss: 1.6152 - acc: 0.4284Epoch 00003: val_loss improved from 2.58792 to 2.14433, saving model to saved_models/weights.best.from_scratch.hdf5\n",
      "7175/7175 [==============================] - 1047s - loss: 1.6151 - acc: 0.4283 - val_loss: 2.1443 - val_acc: 0.2759\n",
      "Epoch 5/10\n",
      "3860/7175 [===============>..............] - ETA: 460s - loss: 1.5422 - acc: 0.4541"
     ]
    }
   ],
   "source": [
    "from keras.callbacks import ModelCheckpoint  \n",
    "\n",
    "checkpointer = ModelCheckpoint(filepath='saved_models/weights.best.from_scratch.hdf5', \n",
    "                               verbose=1, save_best_only=True)\n",
    "\n",
    "model.fit(train_tensors, train_targets, \n",
    "          validation_data=(valid_tensors, valid_targets),\n",
    "          epochs=10, batch_size=20, callbacks=[checkpointer], verbose=1)"
   ]
  },
  {
   "cell_type": "markdown",
   "metadata": {},
   "source": [
    "### Load the Model with the Best Validation Loss"
   ]
  },
  {
   "cell_type": "code",
   "execution_count": null,
   "metadata": {
    "collapsed": false
   },
   "outputs": [],
   "source": [
    "model.load_weights('saved_models/weights.best.from_scratch.hdf5')"
   ]
  },
  {
   "cell_type": "markdown",
   "metadata": {},
   "source": [
    "### Test the Model\n",
    "\n",
    "In the code cell below, we test our first CNN model on the testing data set of driver images. The prediction probability results of all the test images are written into the csv file: **CNN_1_test_probability.csv**, following the submission format defined by Kaggle.\n",
    "\n",
    "**The score (evaluation metrics: logarithmic loss function) of our first CNN model is 2.86036.**\n",
    "\n",
    "**The test result of our first CNN model is ranked 1367 out of 1440 in public leader board.**"
   ]
  },
  {
   "cell_type": "code",
   "execution_count": null,
   "metadata": {
    "collapsed": false
   },
   "outputs": [],
   "source": [
    "driver_behavior_predictions = []\n",
    "for test_file in tqdm(input_test_files):\n",
    "    test_tensor = path_to_tensor(test_file)\n",
    "    test_tensor = np.vstack(test_tensor).astype('float32')/255\n",
    "    driver_behavior_predictions.append(model.predict(np.expand_dims(test_tensor, axis=0))[0])\n",
    "\n",
    "#driver_behavior_predictions = [model.predict(np.expand_dims(test_tensor, axis=0))[0] for test_tensor in test_tensors]\n",
    "\n",
    "test_image_probability_csv = np.column_stack((np.asarray(test_image_filename_list), \\\n",
    "                                              np.asarray(driver_behavior_predictions, dtype=np.float32)))\n",
    "\n",
    "np.savetxt('submission/CNN_1_test_probability.csv', test_image_probability_csv, delimiter=',', \\\n",
    "           comments='', newline='\\n', fmt='%s', header='img,c0,c1,c2,c3,c4,c5,c6,c7,c8,c9')\n",
    "\n",
    "# get index of predicted dog breed for each image in test set\n",
    "#dog_breed_predictions = [np.argmax(model.predict(np.expand_dims(tensor, axis=0))) for tensor in test_tensors]\n",
    "\n",
    "# report test accuracy\n",
    "#test_accuracy = 100*np.sum(np.array(dog_breed_predictions)==np.argmax(test_targets, axis=1))/len(dog_breed_predictions)\n",
    "#print('Test accuracy: %.4f%%' % test_accuracy)"
   ]
  },
  {
   "cell_type": "markdown",
   "metadata": {},
   "source": [
    "---\n",
    "<a id='step3'></a>\n",
    "## Step 3: Use a CNN to classify driver images (using transfer learning)\n",
    "\n",
    "To reduce training time without sacrificing accuracy, we will train a CNN model using\n",
    "transfer learning. In this step, our CNN model will use the pre-trained VGG-16 model as a\n",
    "fixed feature extractor, where the last convolutional output of VGG-16 is fed as input to our\n",
    "model.\n",
    "\n",
    "## VGG16\n",
    "### Obtain Bottleneck Features"
   ]
  },
  {
   "cell_type": "code",
   "execution_count": null,
   "metadata": {
    "collapsed": false
   },
   "outputs": [],
   "source": [
    "from keras.applications.vgg16 import VGG16\n",
    "\n",
    "# https://keras.io/applications/#vgg16\n",
    "# NOT include the 3 fully-connected layers at the top of the network\n",
    "model = VGG16(include_top=False)\n",
    "\n",
    "model.summary()"
   ]
  },
  {
   "cell_type": "code",
   "execution_count": null,
   "metadata": {
    "collapsed": false
   },
   "outputs": [],
   "source": [
    "# del train_tensors, valid_tensors\n",
    "\n",
    "#bottleneck_features_train = []\n",
    "#for img_path in tqdm(train_files):\n",
    "#    tensor = path_to_tensor(img_path)\n",
    "#    tensor = np.vstack(tensor).astype('float32')/255\n",
    "#    bottleneck_features_train.append(model.predict(np.expand_dims(tensor, axis=0))[0])\n",
    "#bottleneck_features_train = np.asarray(bottleneck_features_train, dtype=np.float32)\n",
    "\n",
    "bottleneck_features_train = \\\n",
    "        np.asarray([model.predict(np.expand_dims(train_tensor, axis=0))[0] for train_tensor in train_tensors], dtype=np.float32)\n",
    "\n",
    "np.save(open('bottleneck_features/driver_VGG16_train.npy', 'wb'), bottleneck_features_train)\n",
    "\n",
    "bottleneck_features_train = np.load('bottleneck_features/driver_VGG16_train.npy')\n",
    "\n",
    "\n",
    "\n",
    "#bottleneck_features_valid = []\n",
    "#for img_path in tqdm(valid_files):\n",
    "#    tensor = path_to_tensor(img_path)\n",
    "#    tensor = np.vstack(tensor).astype('float32')/255\n",
    "#    bottleneck_features_valid.append(model.predict(np.expand_dims(tensor, axis=0))[0])\n",
    "#bottleneck_features_valid = np.asarray(bottleneck_features_valid, dtype=np.float32)\n",
    "\n",
    "bottleneck_features_valid = \\\n",
    "        np.asarray([model.predict(np.expand_dims(valid_tensor, axis=0))[0] for valid_tensor in valid_tensors], dtype=np.float32)\n",
    "\n",
    "np.save(open('bottleneck_features/driver_VGG16_valid.npy', 'wb'), bottleneck_features_valid)\n",
    "\n",
    "bottleneck_features_valid = np.load('bottleneck_features/driver_VGG16_valid.npy')"
   ]
  },
  {
   "cell_type": "code",
   "execution_count": 17,
   "metadata": {
    "collapsed": true
   },
   "outputs": [],
   "source": [
    "# bottleneck_features_train = np.load('bottleneck_features/driver_VGG16_train.npy')\n",
    "# bottleneck_features_valid = np.load('bottleneck_features/driver_VGG16_valid.npy')"
   ]
  },
  {
   "cell_type": "markdown",
   "metadata": {},
   "source": [
    "### Model Architecture\n",
    "\n",
    "In our second CNN model using transfer learning of VGG16, we only add a global average pooling layer and a fully connected layer, where the latter contains one node for each driver behavior category and is equipped with a softmax."
   ]
  },
  {
   "cell_type": "code",
   "execution_count": 18,
   "metadata": {
    "collapsed": false
   },
   "outputs": [
    {
     "name": "stdout",
     "output_type": "stream",
     "text": [
      "_________________________________________________________________\n",
      "Layer (type)                 Output Shape              Param #   \n",
      "=================================================================\n",
      "global_average_pooling2d_2 ( (None, 512)               0         \n",
      "_________________________________________________________________\n",
      "dense_3 (Dense)              (None, 64)                32832     \n",
      "_________________________________________________________________\n",
      "batch_normalization_6 (Batch (None, 64)                256       \n",
      "_________________________________________________________________\n",
      "activation_3 (Activation)    (None, 64)                0         \n",
      "_________________________________________________________________\n",
      "dropout_5 (Dropout)          (None, 64)                0         \n",
      "_________________________________________________________________\n",
      "dense_4 (Dense)              (None, 10)                650       \n",
      "_________________________________________________________________\n",
      "batch_normalization_7 (Batch (None, 10)                40        \n",
      "_________________________________________________________________\n",
      "activation_4 (Activation)    (None, 10)                0         \n",
      "=================================================================\n",
      "Total params: 33,778\n",
      "Trainable params: 33,630\n",
      "Non-trainable params: 148\n",
      "_________________________________________________________________\n"
     ]
    }
   ],
   "source": [
    "VGG16_model = Sequential()\n",
    "\n",
    "VGG16_model.add(GlobalAveragePooling2D(input_shape=bottleneck_features_train.shape[1:]))\n",
    "\n",
    "VGG16_model.add(Dense(64))\n",
    "VGG16_model.add(BatchNormalization())\n",
    "VGG16_model.add(Activation('relu'))\n",
    "VGG16_model.add(Dropout(0.2))\n",
    "\n",
    "VGG16_model.add(Dense(10))\n",
    "VGG16_model.add(BatchNormalization())\n",
    "VGG16_model.add(Activation('softmax'))\n",
    "\n",
    "VGG16_model.summary()"
   ]
  },
  {
   "cell_type": "markdown",
   "metadata": {},
   "source": [
    "### Compile the Model"
   ]
  },
  {
   "cell_type": "code",
   "execution_count": 19,
   "metadata": {
    "collapsed": true
   },
   "outputs": [],
   "source": [
    "VGG16_model.compile(loss='categorical_crossentropy', optimizer='rmsprop', metrics=['accuracy'])"
   ]
  },
  {
   "cell_type": "markdown",
   "metadata": {},
   "source": [
    "### Train the Model"
   ]
  },
  {
   "cell_type": "code",
   "execution_count": 20,
   "metadata": {
    "collapsed": false
   },
   "outputs": [
    {
     "name": "stdout",
     "output_type": "stream",
     "text": [
      "Train on 179 samples, validate on 45 samples\n",
      "Epoch 1/20\n",
      "120/179 [===================>..........] - ETA: 0s - loss: 2.5804 - acc: 0.1083Epoch 00000: val_loss improved from inf to 2.36872, saving model to saved_models/weights.best.VGG16.hdf5\n",
      "179/179 [==============================] - 1s - loss: 2.5600 - acc: 0.1341 - val_loss: 2.3687 - val_acc: 0.1111\n",
      "Epoch 2/20\n",
      "140/179 [======================>.......] - ETA: 0s - loss: 1.9102 - acc: 0.3071Epoch 00001: val_loss improved from 2.36872 to 2.33830, saving model to saved_models/weights.best.VGG16.hdf5\n",
      "179/179 [==============================] - 0s - loss: 1.9170 - acc: 0.3017 - val_loss: 2.3383 - val_acc: 0.1556\n",
      "Epoch 3/20\n",
      "140/179 [======================>.......] - ETA: 0s - loss: 1.6801 - acc: 0.4000Epoch 00002: val_loss improved from 2.33830 to 2.31200, saving model to saved_models/weights.best.VGG16.hdf5\n",
      "179/179 [==============================] - 0s - loss: 1.7215 - acc: 0.3855 - val_loss: 2.3120 - val_acc: 0.1111\n",
      "Epoch 4/20\n",
      "120/179 [===================>..........] - ETA: 0s - loss: 1.4979 - acc: 0.5000Epoch 00003: val_loss improved from 2.31200 to 2.27827, saving model to saved_models/weights.best.VGG16.hdf5\n",
      "179/179 [==============================] - 0s - loss: 1.4877 - acc: 0.5419 - val_loss: 2.2783 - val_acc: 0.1111\n",
      "Epoch 5/20\n",
      "120/179 [===================>..........] - ETA: 0s - loss: 1.3849 - acc: 0.5583Epoch 00004: val_loss improved from 2.27827 to 2.24218, saving model to saved_models/weights.best.VGG16.hdf5\n",
      "179/179 [==============================] - 0s - loss: 1.3930 - acc: 0.5587 - val_loss: 2.2422 - val_acc: 0.1111\n",
      "Epoch 6/20\n",
      "160/179 [=========================>....] - ETA: 0s - loss: 1.2948 - acc: 0.6500Epoch 00005: val_loss improved from 2.24218 to 2.20413, saving model to saved_models/weights.best.VGG16.hdf5\n",
      "179/179 [==============================] - 0s - loss: 1.3140 - acc: 0.6257 - val_loss: 2.2041 - val_acc: 0.1778\n",
      "Epoch 7/20\n",
      " 20/179 [==>...........................] - ETA: 0s - loss: 1.1988 - acc: 0.7000Epoch 00006: val_loss improved from 2.20413 to 2.19058, saving model to saved_models/weights.best.VGG16.hdf5\n",
      "179/179 [==============================] - 0s - loss: 1.1972 - acc: 0.6983 - val_loss: 2.1906 - val_acc: 0.2000\n",
      "Epoch 8/20\n",
      " 20/179 [==>...........................] - ETA: 0s - loss: 1.1255 - acc: 0.6500Epoch 00007: val_loss did not improve\n",
      "179/179 [==============================] - 0s - loss: 1.1374 - acc: 0.7039 - val_loss: 2.1910 - val_acc: 0.2444\n",
      "Epoch 9/20\n",
      " 20/179 [==>...........................] - ETA: 0s - loss: 0.9594 - acc: 0.8500Epoch 00008: val_loss did not improve\n",
      "179/179 [==============================] - 0s - loss: 1.0309 - acc: 0.8156 - val_loss: 2.1917 - val_acc: 0.2444\n",
      "Epoch 10/20\n",
      " 20/179 [==>...........................] - ETA: 0s - loss: 0.9438 - acc: 0.9000Epoch 00009: val_loss improved from 2.19058 to 2.17638, saving model to saved_models/weights.best.VGG16.hdf5\n",
      "179/179 [==============================] - 0s - loss: 0.9786 - acc: 0.8547 - val_loss: 2.1764 - val_acc: 0.2667\n",
      "Epoch 11/20\n",
      " 20/179 [==>...........................] - ETA: 0s - loss: 0.8336 - acc: 0.9000Epoch 00010: val_loss did not improve\n",
      "179/179 [==============================] - 0s - loss: 0.9609 - acc: 0.8603 - val_loss: 2.1783 - val_acc: 0.2889\n",
      "Epoch 12/20\n",
      "160/179 [=========================>....] - ETA: 0s - loss: 0.8665 - acc: 0.8875Epoch 00011: val_loss improved from 2.17638 to 2.17168, saving model to saved_models/weights.best.VGG16.hdf5\n",
      "179/179 [==============================] - 0s - loss: 0.8534 - acc: 0.8939 - val_loss: 2.1717 - val_acc: 0.3333\n",
      "Epoch 13/20\n",
      " 20/179 [==>...........................] - ETA: 0s - loss: 0.8008 - acc: 1.0000Epoch 00012: val_loss improved from 2.17168 to 2.14884, saving model to saved_models/weights.best.VGG16.hdf5\n",
      "179/179 [==============================] - 0s - loss: 0.8443 - acc: 0.9106 - val_loss: 2.1488 - val_acc: 0.3778\n",
      "Epoch 14/20\n",
      " 20/179 [==>...........................] - ETA: 0s - loss: 0.8435 - acc: 0.9000Epoch 00013: val_loss did not improve\n",
      "179/179 [==============================] - 0s - loss: 0.8145 - acc: 0.9106 - val_loss: 2.1536 - val_acc: 0.4000\n",
      "Epoch 15/20\n",
      " 20/179 [==>...........................] - ETA: 0s - loss: 0.7917 - acc: 0.8500Epoch 00014: val_loss improved from 2.14884 to 2.14806, saving model to saved_models/weights.best.VGG16.hdf5\n",
      "179/179 [==============================] - 0s - loss: 0.7732 - acc: 0.9274 - val_loss: 2.1481 - val_acc: 0.3778\n",
      "Epoch 16/20\n",
      " 20/179 [==>...........................] - ETA: 0s - loss: 0.6834 - acc: 0.9500Epoch 00015: val_loss improved from 2.14806 to 2.14001, saving model to saved_models/weights.best.VGG16.hdf5\n",
      "179/179 [==============================] - 0s - loss: 0.7745 - acc: 0.9162 - val_loss: 2.1400 - val_acc: 0.3556\n",
      "Epoch 17/20\n",
      " 20/179 [==>...........................] - ETA: 0s - loss: 0.6939 - acc: 1.0000Epoch 00016: val_loss improved from 2.14001 to 2.12749, saving model to saved_models/weights.best.VGG16.hdf5\n",
      "179/179 [==============================] - 0s - loss: 0.7138 - acc: 0.9609 - val_loss: 2.1275 - val_acc: 0.3333\n",
      "Epoch 18/20\n",
      " 20/179 [==>...........................] - ETA: 0s - loss: 0.6971 - acc: 0.9500Epoch 00017: val_loss did not improve\n",
      "179/179 [==============================] - 0s - loss: 0.6900 - acc: 0.9330 - val_loss: 2.1301 - val_acc: 0.3333\n",
      "Epoch 19/20\n",
      " 20/179 [==>...........................] - ETA: 0s - loss: 0.6225 - acc: 1.0000Epoch 00018: val_loss improved from 2.12749 to 2.11509, saving model to saved_models/weights.best.VGG16.hdf5\n",
      "179/179 [==============================] - 0s - loss: 0.6820 - acc: 0.9441 - val_loss: 2.1151 - val_acc: 0.3333\n",
      "Epoch 20/20\n",
      " 20/179 [==>...........................] - ETA: 0s - loss: 0.6715 - acc: 0.9500Epoch 00019: val_loss improved from 2.11509 to 2.11173, saving model to saved_models/weights.best.VGG16.hdf5\n",
      "179/179 [==============================] - 0s - loss: 0.6721 - acc: 0.9330 - val_loss: 2.1117 - val_acc: 0.2889\n"
     ]
    },
    {
     "data": {
      "text/plain": [
       "<keras.callbacks.History at 0x27bb51f5ef0>"
      ]
     },
     "execution_count": 20,
     "metadata": {},
     "output_type": "execute_result"
    }
   ],
   "source": [
    "checkpointer = ModelCheckpoint(filepath='saved_models/weights.best.VGG16.hdf5', \n",
    "                               verbose=1, save_best_only=True)\n",
    "\n",
    "VGG16_model.fit(bottleneck_features_train, train_targets, \n",
    "                validation_data=(bottleneck_features_valid, valid_targets),\n",
    "                epochs=20, batch_size=20, callbacks=[checkpointer], verbose=1)"
   ]
  },
  {
   "cell_type": "markdown",
   "metadata": {},
   "source": [
    "### Load the Model with the Best Validation Loss"
   ]
  },
  {
   "cell_type": "code",
   "execution_count": 21,
   "metadata": {
    "collapsed": true
   },
   "outputs": [],
   "source": [
    "VGG16_model.load_weights('saved_models/weights.best.VGG16.hdf5')"
   ]
  },
  {
   "cell_type": "markdown",
   "metadata": {},
   "source": [
    "### Test the Model\n",
    "\n",
    "In the code cell below, we test our second CNN model (using transfer learning of VGG16) on the testing data set of driver images. The prediction probability results of all the test images are written into the csv file: **CNN_VGG16_test_probability.csv**, following the submission format defined by Kaggle.\n",
    "\n",
    "**The score (evaluation metrics: logarithmic loss function) of our second CNN model (using transfer learning of VGG16) is .**\n",
    "\n",
    "**The test result of our second CNN model (using transfer learning of VGG16) is ranked    out of 1440 in public leader board.**"
   ]
  },
  {
   "cell_type": "code",
   "execution_count": 22,
   "metadata": {
    "collapsed": false
   },
   "outputs": [
    {
     "name": "stderr",
     "output_type": "stream",
     "text": [
      "100%|██████████████████████████████████████████████████████████████████████████████████| 45/45 [01:23<00:00,  1.88s/it]\n"
     ]
    }
   ],
   "source": [
    "driver_behavior_predictions = []\n",
    "for test_file in tqdm(input_test_files):\n",
    "    test_tensor = path_to_tensor(test_file)\n",
    "    test_tensor = np.vstack(test_tensor).astype('float32')/255\n",
    "    test_bottleneck_feature = model.predict(np.expand_dims(test_tensor, axis=0))[0]\n",
    "    driver_behavior_predictions.append(VGG16_model.predict(np.expand_dims(test_bottleneck_feature, axis=0))[0])\n",
    "\n",
    "test_image_probability_csv = np.column_stack((np.asarray(test_image_filename_list), \\\n",
    "                                              np.asarray(driver_behavior_predictions, dtype=np.float32)))\n",
    "\n",
    "np.savetxt('submission/CNN_VGG16_test_probability.csv', test_image_probability_csv, delimiter=',', \\\n",
    "           comments='', newline='\\n', fmt='%s', header='img,c0,c1,c2,c3,c4,c5,c6,c7,c8,c9')\n",
    "\n",
    "# get index of predicted dog breed for each image in test set\n",
    "#VGG16_predictions = [np.argmax(VGG16_model.predict(np.expand_dims(feature, axis=0))) for feature in test_VGG16]\n",
    "\n",
    "# report test accuracy\n",
    "#test_accuracy = 100*np.sum(np.array(VGG16_predictions)==np.argmax(test_targets, axis=1))/len(VGG16_predictions)\n",
    "#print('Test accuracy: %.4f%%' % test_accuracy)"
   ]
  },
  {
   "cell_type": "code",
   "execution_count": 23,
   "metadata": {
    "collapsed": false
   },
   "outputs": [],
   "source": [
    "#from extract_bottleneck_features import *\n",
    "\n",
    "#def VGG16_predict_breed(img_path):\n",
    "#    # extract bottleneck features\n",
    "#    bottleneck_feature = extract_VGG16(path_to_tensor(img_path))\n",
    "#    # obtain predicted vector\n",
    "#    predicted_vector = VGG16_model.predict(bottleneck_feature)\n",
    "#    # return dog breed that is predicted by the model\n",
    "#    return dog_names[np.argmax(predicted_vector)]"
   ]
  },
  {
   "cell_type": "markdown",
   "metadata": {},
   "source": [
    "---\n",
    "<a id='step4'></a>\n",
    "## Step 4: Create a CNN to classify driver images (using transfer learning)\n",
    "\n",
    "In this step, instead of VGG-16, we may try to use the other pre-trained model, like VGG19, Resnet50, InceptionV3, or Xception, for different model choice of transfer learning. We can compare\n",
    "the chosen CNN model with the above one (VGG-16) and check the difference between their prediction scores.\n",
    "\n",
    "Here we choose ResNet50 to be the CNN model of transfer learning below."
   ]
  },
  {
   "cell_type": "markdown",
   "metadata": {},
   "source": [
    "## ResNet50\n",
    "### Obtain Bottleneck Features"
   ]
  },
  {
   "cell_type": "code",
   "execution_count": 24,
   "metadata": {
    "collapsed": false
   },
   "outputs": [
    {
     "name": "stdout",
     "output_type": "stream",
     "text": [
      "____________________________________________________________________________________________________\n",
      "Layer (type)                     Output Shape          Param #     Connected to                     \n",
      "====================================================================================================\n",
      "input_2 (InputLayer)             (None, None, None, 3) 0                                            \n",
      "____________________________________________________________________________________________________\n",
      "conv1 (Conv2D)                   (None, None, None, 64 9472        input_2[0][0]                    \n",
      "____________________________________________________________________________________________________\n",
      "bn_conv1 (BatchNormalization)    (None, None, None, 64 256         conv1[0][0]                      \n",
      "____________________________________________________________________________________________________\n",
      "activation_5 (Activation)        (None, None, None, 64 0           bn_conv1[0][0]                   \n",
      "____________________________________________________________________________________________________\n",
      "max_pooling2d_4 (MaxPooling2D)   (None, None, None, 64 0           activation_5[0][0]               \n",
      "____________________________________________________________________________________________________\n",
      "res2a_branch2a (Conv2D)          (None, None, None, 64 4160        max_pooling2d_4[0][0]            \n",
      "____________________________________________________________________________________________________\n",
      "bn2a_branch2a (BatchNormalizatio (None, None, None, 64 256         res2a_branch2a[0][0]             \n",
      "____________________________________________________________________________________________________\n",
      "activation_6 (Activation)        (None, None, None, 64 0           bn2a_branch2a[0][0]              \n",
      "____________________________________________________________________________________________________\n",
      "res2a_branch2b (Conv2D)          (None, None, None, 64 36928       activation_6[0][0]               \n",
      "____________________________________________________________________________________________________\n",
      "bn2a_branch2b (BatchNormalizatio (None, None, None, 64 256         res2a_branch2b[0][0]             \n",
      "____________________________________________________________________________________________________\n",
      "activation_7 (Activation)        (None, None, None, 64 0           bn2a_branch2b[0][0]              \n",
      "____________________________________________________________________________________________________\n",
      "res2a_branch2c (Conv2D)          (None, None, None, 25 16640       activation_7[0][0]               \n",
      "____________________________________________________________________________________________________\n",
      "res2a_branch1 (Conv2D)           (None, None, None, 25 16640       max_pooling2d_4[0][0]            \n",
      "____________________________________________________________________________________________________\n",
      "bn2a_branch2c (BatchNormalizatio (None, None, None, 25 1024        res2a_branch2c[0][0]             \n",
      "____________________________________________________________________________________________________\n",
      "bn2a_branch1 (BatchNormalization (None, None, None, 25 1024        res2a_branch1[0][0]              \n",
      "____________________________________________________________________________________________________\n",
      "add_1 (Add)                      (None, None, None, 25 0           bn2a_branch2c[0][0]              \n",
      "                                                                   bn2a_branch1[0][0]               \n",
      "____________________________________________________________________________________________________\n",
      "activation_8 (Activation)        (None, None, None, 25 0           add_1[0][0]                      \n",
      "____________________________________________________________________________________________________\n",
      "res2b_branch2a (Conv2D)          (None, None, None, 64 16448       activation_8[0][0]               \n",
      "____________________________________________________________________________________________________\n",
      "bn2b_branch2a (BatchNormalizatio (None, None, None, 64 256         res2b_branch2a[0][0]             \n",
      "____________________________________________________________________________________________________\n",
      "activation_9 (Activation)        (None, None, None, 64 0           bn2b_branch2a[0][0]              \n",
      "____________________________________________________________________________________________________\n",
      "res2b_branch2b (Conv2D)          (None, None, None, 64 36928       activation_9[0][0]               \n",
      "____________________________________________________________________________________________________\n",
      "bn2b_branch2b (BatchNormalizatio (None, None, None, 64 256         res2b_branch2b[0][0]             \n",
      "____________________________________________________________________________________________________\n",
      "activation_10 (Activation)       (None, None, None, 64 0           bn2b_branch2b[0][0]              \n",
      "____________________________________________________________________________________________________\n",
      "res2b_branch2c (Conv2D)          (None, None, None, 25 16640       activation_10[0][0]              \n",
      "____________________________________________________________________________________________________\n",
      "bn2b_branch2c (BatchNormalizatio (None, None, None, 25 1024        res2b_branch2c[0][0]             \n",
      "____________________________________________________________________________________________________\n",
      "add_2 (Add)                      (None, None, None, 25 0           bn2b_branch2c[0][0]              \n",
      "                                                                   activation_8[0][0]               \n",
      "____________________________________________________________________________________________________\n",
      "activation_11 (Activation)       (None, None, None, 25 0           add_2[0][0]                      \n",
      "____________________________________________________________________________________________________\n",
      "res2c_branch2a (Conv2D)          (None, None, None, 64 16448       activation_11[0][0]              \n",
      "____________________________________________________________________________________________________\n",
      "bn2c_branch2a (BatchNormalizatio (None, None, None, 64 256         res2c_branch2a[0][0]             \n",
      "____________________________________________________________________________________________________\n",
      "activation_12 (Activation)       (None, None, None, 64 0           bn2c_branch2a[0][0]              \n",
      "____________________________________________________________________________________________________\n",
      "res2c_branch2b (Conv2D)          (None, None, None, 64 36928       activation_12[0][0]              \n",
      "____________________________________________________________________________________________________\n",
      "bn2c_branch2b (BatchNormalizatio (None, None, None, 64 256         res2c_branch2b[0][0]             \n",
      "____________________________________________________________________________________________________\n",
      "activation_13 (Activation)       (None, None, None, 64 0           bn2c_branch2b[0][0]              \n",
      "____________________________________________________________________________________________________\n",
      "res2c_branch2c (Conv2D)          (None, None, None, 25 16640       activation_13[0][0]              \n",
      "____________________________________________________________________________________________________\n",
      "bn2c_branch2c (BatchNormalizatio (None, None, None, 25 1024        res2c_branch2c[0][0]             \n",
      "____________________________________________________________________________________________________\n",
      "add_3 (Add)                      (None, None, None, 25 0           bn2c_branch2c[0][0]              \n",
      "                                                                   activation_11[0][0]              \n",
      "____________________________________________________________________________________________________\n",
      "activation_14 (Activation)       (None, None, None, 25 0           add_3[0][0]                      \n",
      "____________________________________________________________________________________________________\n",
      "res3a_branch2a (Conv2D)          (None, None, None, 12 32896       activation_14[0][0]              \n",
      "____________________________________________________________________________________________________\n",
      "bn3a_branch2a (BatchNormalizatio (None, None, None, 12 512         res3a_branch2a[0][0]             \n",
      "____________________________________________________________________________________________________\n",
      "activation_15 (Activation)       (None, None, None, 12 0           bn3a_branch2a[0][0]              \n",
      "____________________________________________________________________________________________________\n",
      "res3a_branch2b (Conv2D)          (None, None, None, 12 147584      activation_15[0][0]              \n",
      "____________________________________________________________________________________________________\n",
      "bn3a_branch2b (BatchNormalizatio (None, None, None, 12 512         res3a_branch2b[0][0]             \n",
      "____________________________________________________________________________________________________\n",
      "activation_16 (Activation)       (None, None, None, 12 0           bn3a_branch2b[0][0]              \n",
      "____________________________________________________________________________________________________\n",
      "res3a_branch2c (Conv2D)          (None, None, None, 51 66048       activation_16[0][0]              \n",
      "____________________________________________________________________________________________________\n",
      "res3a_branch1 (Conv2D)           (None, None, None, 51 131584      activation_14[0][0]              \n",
      "____________________________________________________________________________________________________\n",
      "bn3a_branch2c (BatchNormalizatio (None, None, None, 51 2048        res3a_branch2c[0][0]             \n",
      "____________________________________________________________________________________________________\n",
      "bn3a_branch1 (BatchNormalization (None, None, None, 51 2048        res3a_branch1[0][0]              \n",
      "____________________________________________________________________________________________________\n",
      "add_4 (Add)                      (None, None, None, 51 0           bn3a_branch2c[0][0]              \n",
      "                                                                   bn3a_branch1[0][0]               \n",
      "____________________________________________________________________________________________________\n",
      "activation_17 (Activation)       (None, None, None, 51 0           add_4[0][0]                      \n",
      "____________________________________________________________________________________________________\n",
      "res3b_branch2a (Conv2D)          (None, None, None, 12 65664       activation_17[0][0]              \n",
      "____________________________________________________________________________________________________\n",
      "bn3b_branch2a (BatchNormalizatio (None, None, None, 12 512         res3b_branch2a[0][0]             \n",
      "____________________________________________________________________________________________________\n",
      "activation_18 (Activation)       (None, None, None, 12 0           bn3b_branch2a[0][0]              \n",
      "____________________________________________________________________________________________________\n",
      "res3b_branch2b (Conv2D)          (None, None, None, 12 147584      activation_18[0][0]              \n",
      "____________________________________________________________________________________________________\n",
      "bn3b_branch2b (BatchNormalizatio (None, None, None, 12 512         res3b_branch2b[0][0]             \n",
      "____________________________________________________________________________________________________\n",
      "activation_19 (Activation)       (None, None, None, 12 0           bn3b_branch2b[0][0]              \n",
      "____________________________________________________________________________________________________\n",
      "res3b_branch2c (Conv2D)          (None, None, None, 51 66048       activation_19[0][0]              \n",
      "____________________________________________________________________________________________________\n",
      "bn3b_branch2c (BatchNormalizatio (None, None, None, 51 2048        res3b_branch2c[0][0]             \n",
      "____________________________________________________________________________________________________\n",
      "add_5 (Add)                      (None, None, None, 51 0           bn3b_branch2c[0][0]              \n",
      "                                                                   activation_17[0][0]              \n",
      "____________________________________________________________________________________________________\n",
      "activation_20 (Activation)       (None, None, None, 51 0           add_5[0][0]                      \n",
      "____________________________________________________________________________________________________\n",
      "res3c_branch2a (Conv2D)          (None, None, None, 12 65664       activation_20[0][0]              \n",
      "____________________________________________________________________________________________________\n",
      "bn3c_branch2a (BatchNormalizatio (None, None, None, 12 512         res3c_branch2a[0][0]             \n",
      "____________________________________________________________________________________________________\n",
      "activation_21 (Activation)       (None, None, None, 12 0           bn3c_branch2a[0][0]              \n",
      "____________________________________________________________________________________________________\n",
      "res3c_branch2b (Conv2D)          (None, None, None, 12 147584      activation_21[0][0]              \n",
      "____________________________________________________________________________________________________\n",
      "bn3c_branch2b (BatchNormalizatio (None, None, None, 12 512         res3c_branch2b[0][0]             \n",
      "____________________________________________________________________________________________________\n",
      "activation_22 (Activation)       (None, None, None, 12 0           bn3c_branch2b[0][0]              \n",
      "____________________________________________________________________________________________________\n",
      "res3c_branch2c (Conv2D)          (None, None, None, 51 66048       activation_22[0][0]              \n",
      "____________________________________________________________________________________________________\n",
      "bn3c_branch2c (BatchNormalizatio (None, None, None, 51 2048        res3c_branch2c[0][0]             \n",
      "____________________________________________________________________________________________________\n",
      "add_6 (Add)                      (None, None, None, 51 0           bn3c_branch2c[0][0]              \n",
      "                                                                   activation_20[0][0]              \n",
      "____________________________________________________________________________________________________\n",
      "activation_23 (Activation)       (None, None, None, 51 0           add_6[0][0]                      \n",
      "____________________________________________________________________________________________________\n",
      "res3d_branch2a (Conv2D)          (None, None, None, 12 65664       activation_23[0][0]              \n",
      "____________________________________________________________________________________________________\n",
      "bn3d_branch2a (BatchNormalizatio (None, None, None, 12 512         res3d_branch2a[0][0]             \n",
      "____________________________________________________________________________________________________\n",
      "activation_24 (Activation)       (None, None, None, 12 0           bn3d_branch2a[0][0]              \n",
      "____________________________________________________________________________________________________\n",
      "res3d_branch2b (Conv2D)          (None, None, None, 12 147584      activation_24[0][0]              \n",
      "____________________________________________________________________________________________________\n",
      "bn3d_branch2b (BatchNormalizatio (None, None, None, 12 512         res3d_branch2b[0][0]             \n",
      "____________________________________________________________________________________________________\n",
      "activation_25 (Activation)       (None, None, None, 12 0           bn3d_branch2b[0][0]              \n",
      "____________________________________________________________________________________________________\n",
      "res3d_branch2c (Conv2D)          (None, None, None, 51 66048       activation_25[0][0]              \n",
      "____________________________________________________________________________________________________\n",
      "bn3d_branch2c (BatchNormalizatio (None, None, None, 51 2048        res3d_branch2c[0][0]             \n",
      "____________________________________________________________________________________________________\n",
      "add_7 (Add)                      (None, None, None, 51 0           bn3d_branch2c[0][0]              \n",
      "                                                                   activation_23[0][0]              \n",
      "____________________________________________________________________________________________________\n",
      "activation_26 (Activation)       (None, None, None, 51 0           add_7[0][0]                      \n",
      "____________________________________________________________________________________________________\n",
      "res4a_branch2a (Conv2D)          (None, None, None, 25 131328      activation_26[0][0]              \n",
      "____________________________________________________________________________________________________\n",
      "bn4a_branch2a (BatchNormalizatio (None, None, None, 25 1024        res4a_branch2a[0][0]             \n",
      "____________________________________________________________________________________________________\n",
      "activation_27 (Activation)       (None, None, None, 25 0           bn4a_branch2a[0][0]              \n",
      "____________________________________________________________________________________________________\n",
      "res4a_branch2b (Conv2D)          (None, None, None, 25 590080      activation_27[0][0]              \n",
      "____________________________________________________________________________________________________\n",
      "bn4a_branch2b (BatchNormalizatio (None, None, None, 25 1024        res4a_branch2b[0][0]             \n",
      "____________________________________________________________________________________________________\n",
      "activation_28 (Activation)       (None, None, None, 25 0           bn4a_branch2b[0][0]              \n",
      "____________________________________________________________________________________________________\n",
      "res4a_branch2c (Conv2D)          (None, None, None, 10 263168      activation_28[0][0]              \n",
      "____________________________________________________________________________________________________\n",
      "res4a_branch1 (Conv2D)           (None, None, None, 10 525312      activation_26[0][0]              \n",
      "____________________________________________________________________________________________________\n",
      "bn4a_branch2c (BatchNormalizatio (None, None, None, 10 4096        res4a_branch2c[0][0]             \n",
      "____________________________________________________________________________________________________\n",
      "bn4a_branch1 (BatchNormalization (None, None, None, 10 4096        res4a_branch1[0][0]              \n",
      "____________________________________________________________________________________________________\n",
      "add_8 (Add)                      (None, None, None, 10 0           bn4a_branch2c[0][0]              \n",
      "                                                                   bn4a_branch1[0][0]               \n",
      "____________________________________________________________________________________________________\n",
      "activation_29 (Activation)       (None, None, None, 10 0           add_8[0][0]                      \n",
      "____________________________________________________________________________________________________\n",
      "res4b_branch2a (Conv2D)          (None, None, None, 25 262400      activation_29[0][0]              \n",
      "____________________________________________________________________________________________________\n",
      "bn4b_branch2a (BatchNormalizatio (None, None, None, 25 1024        res4b_branch2a[0][0]             \n",
      "____________________________________________________________________________________________________\n",
      "activation_30 (Activation)       (None, None, None, 25 0           bn4b_branch2a[0][0]              \n",
      "____________________________________________________________________________________________________\n",
      "res4b_branch2b (Conv2D)          (None, None, None, 25 590080      activation_30[0][0]              \n",
      "____________________________________________________________________________________________________\n",
      "bn4b_branch2b (BatchNormalizatio (None, None, None, 25 1024        res4b_branch2b[0][0]             \n",
      "____________________________________________________________________________________________________\n",
      "activation_31 (Activation)       (None, None, None, 25 0           bn4b_branch2b[0][0]              \n",
      "____________________________________________________________________________________________________\n",
      "res4b_branch2c (Conv2D)          (None, None, None, 10 263168      activation_31[0][0]              \n",
      "____________________________________________________________________________________________________\n",
      "bn4b_branch2c (BatchNormalizatio (None, None, None, 10 4096        res4b_branch2c[0][0]             \n",
      "____________________________________________________________________________________________________\n",
      "add_9 (Add)                      (None, None, None, 10 0           bn4b_branch2c[0][0]              \n",
      "                                                                   activation_29[0][0]              \n",
      "____________________________________________________________________________________________________\n",
      "activation_32 (Activation)       (None, None, None, 10 0           add_9[0][0]                      \n",
      "____________________________________________________________________________________________________\n",
      "res4c_branch2a (Conv2D)          (None, None, None, 25 262400      activation_32[0][0]              \n",
      "____________________________________________________________________________________________________\n",
      "bn4c_branch2a (BatchNormalizatio (None, None, None, 25 1024        res4c_branch2a[0][0]             \n",
      "____________________________________________________________________________________________________\n",
      "activation_33 (Activation)       (None, None, None, 25 0           bn4c_branch2a[0][0]              \n",
      "____________________________________________________________________________________________________\n",
      "res4c_branch2b (Conv2D)          (None, None, None, 25 590080      activation_33[0][0]              \n",
      "____________________________________________________________________________________________________\n",
      "bn4c_branch2b (BatchNormalizatio (None, None, None, 25 1024        res4c_branch2b[0][0]             \n",
      "____________________________________________________________________________________________________\n",
      "activation_34 (Activation)       (None, None, None, 25 0           bn4c_branch2b[0][0]              \n",
      "____________________________________________________________________________________________________\n",
      "res4c_branch2c (Conv2D)          (None, None, None, 10 263168      activation_34[0][0]              \n",
      "____________________________________________________________________________________________________\n",
      "bn4c_branch2c (BatchNormalizatio (None, None, None, 10 4096        res4c_branch2c[0][0]             \n",
      "____________________________________________________________________________________________________\n",
      "add_10 (Add)                     (None, None, None, 10 0           bn4c_branch2c[0][0]              \n",
      "                                                                   activation_32[0][0]              \n",
      "____________________________________________________________________________________________________\n",
      "activation_35 (Activation)       (None, None, None, 10 0           add_10[0][0]                     \n",
      "____________________________________________________________________________________________________\n",
      "res4d_branch2a (Conv2D)          (None, None, None, 25 262400      activation_35[0][0]              \n",
      "____________________________________________________________________________________________________\n",
      "bn4d_branch2a (BatchNormalizatio (None, None, None, 25 1024        res4d_branch2a[0][0]             \n",
      "____________________________________________________________________________________________________\n",
      "activation_36 (Activation)       (None, None, None, 25 0           bn4d_branch2a[0][0]              \n",
      "____________________________________________________________________________________________________\n",
      "res4d_branch2b (Conv2D)          (None, None, None, 25 590080      activation_36[0][0]              \n",
      "____________________________________________________________________________________________________\n",
      "bn4d_branch2b (BatchNormalizatio (None, None, None, 25 1024        res4d_branch2b[0][0]             \n",
      "____________________________________________________________________________________________________\n",
      "activation_37 (Activation)       (None, None, None, 25 0           bn4d_branch2b[0][0]              \n",
      "____________________________________________________________________________________________________\n",
      "res4d_branch2c (Conv2D)          (None, None, None, 10 263168      activation_37[0][0]              \n",
      "____________________________________________________________________________________________________\n",
      "bn4d_branch2c (BatchNormalizatio (None, None, None, 10 4096        res4d_branch2c[0][0]             \n",
      "____________________________________________________________________________________________________\n",
      "add_11 (Add)                     (None, None, None, 10 0           bn4d_branch2c[0][0]              \n",
      "                                                                   activation_35[0][0]              \n",
      "____________________________________________________________________________________________________\n",
      "activation_38 (Activation)       (None, None, None, 10 0           add_11[0][0]                     \n",
      "____________________________________________________________________________________________________\n",
      "res4e_branch2a (Conv2D)          (None, None, None, 25 262400      activation_38[0][0]              \n",
      "____________________________________________________________________________________________________\n",
      "bn4e_branch2a (BatchNormalizatio (None, None, None, 25 1024        res4e_branch2a[0][0]             \n",
      "____________________________________________________________________________________________________\n",
      "activation_39 (Activation)       (None, None, None, 25 0           bn4e_branch2a[0][0]              \n",
      "____________________________________________________________________________________________________\n",
      "res4e_branch2b (Conv2D)          (None, None, None, 25 590080      activation_39[0][0]              \n",
      "____________________________________________________________________________________________________\n",
      "bn4e_branch2b (BatchNormalizatio (None, None, None, 25 1024        res4e_branch2b[0][0]             \n",
      "____________________________________________________________________________________________________\n",
      "activation_40 (Activation)       (None, None, None, 25 0           bn4e_branch2b[0][0]              \n",
      "____________________________________________________________________________________________________\n",
      "res4e_branch2c (Conv2D)          (None, None, None, 10 263168      activation_40[0][0]              \n",
      "____________________________________________________________________________________________________\n",
      "bn4e_branch2c (BatchNormalizatio (None, None, None, 10 4096        res4e_branch2c[0][0]             \n",
      "____________________________________________________________________________________________________\n",
      "add_12 (Add)                     (None, None, None, 10 0           bn4e_branch2c[0][0]              \n",
      "                                                                   activation_38[0][0]              \n",
      "____________________________________________________________________________________________________\n",
      "activation_41 (Activation)       (None, None, None, 10 0           add_12[0][0]                     \n",
      "____________________________________________________________________________________________________\n",
      "res4f_branch2a (Conv2D)          (None, None, None, 25 262400      activation_41[0][0]              \n",
      "____________________________________________________________________________________________________\n",
      "bn4f_branch2a (BatchNormalizatio (None, None, None, 25 1024        res4f_branch2a[0][0]             \n",
      "____________________________________________________________________________________________________\n",
      "activation_42 (Activation)       (None, None, None, 25 0           bn4f_branch2a[0][0]              \n",
      "____________________________________________________________________________________________________\n",
      "res4f_branch2b (Conv2D)          (None, None, None, 25 590080      activation_42[0][0]              \n",
      "____________________________________________________________________________________________________\n",
      "bn4f_branch2b (BatchNormalizatio (None, None, None, 25 1024        res4f_branch2b[0][0]             \n",
      "____________________________________________________________________________________________________\n",
      "activation_43 (Activation)       (None, None, None, 25 0           bn4f_branch2b[0][0]              \n",
      "____________________________________________________________________________________________________\n",
      "res4f_branch2c (Conv2D)          (None, None, None, 10 263168      activation_43[0][0]              \n",
      "____________________________________________________________________________________________________\n",
      "bn4f_branch2c (BatchNormalizatio (None, None, None, 10 4096        res4f_branch2c[0][0]             \n",
      "____________________________________________________________________________________________________\n",
      "add_13 (Add)                     (None, None, None, 10 0           bn4f_branch2c[0][0]              \n",
      "                                                                   activation_41[0][0]              \n",
      "____________________________________________________________________________________________________\n",
      "activation_44 (Activation)       (None, None, None, 10 0           add_13[0][0]                     \n",
      "____________________________________________________________________________________________________\n",
      "res5a_branch2a (Conv2D)          (None, None, None, 51 524800      activation_44[0][0]              \n",
      "____________________________________________________________________________________________________\n",
      "bn5a_branch2a (BatchNormalizatio (None, None, None, 51 2048        res5a_branch2a[0][0]             \n",
      "____________________________________________________________________________________________________\n",
      "activation_45 (Activation)       (None, None, None, 51 0           bn5a_branch2a[0][0]              \n",
      "____________________________________________________________________________________________________\n",
      "res5a_branch2b (Conv2D)          (None, None, None, 51 2359808     activation_45[0][0]              \n",
      "____________________________________________________________________________________________________\n",
      "bn5a_branch2b (BatchNormalizatio (None, None, None, 51 2048        res5a_branch2b[0][0]             \n",
      "____________________________________________________________________________________________________\n",
      "activation_46 (Activation)       (None, None, None, 51 0           bn5a_branch2b[0][0]              \n",
      "____________________________________________________________________________________________________\n",
      "res5a_branch2c (Conv2D)          (None, None, None, 20 1050624     activation_46[0][0]              \n",
      "____________________________________________________________________________________________________\n",
      "res5a_branch1 (Conv2D)           (None, None, None, 20 2099200     activation_44[0][0]              \n",
      "____________________________________________________________________________________________________\n",
      "bn5a_branch2c (BatchNormalizatio (None, None, None, 20 8192        res5a_branch2c[0][0]             \n",
      "____________________________________________________________________________________________________\n",
      "bn5a_branch1 (BatchNormalization (None, None, None, 20 8192        res5a_branch1[0][0]              \n",
      "____________________________________________________________________________________________________\n",
      "add_14 (Add)                     (None, None, None, 20 0           bn5a_branch2c[0][0]              \n",
      "                                                                   bn5a_branch1[0][0]               \n",
      "____________________________________________________________________________________________________\n",
      "activation_47 (Activation)       (None, None, None, 20 0           add_14[0][0]                     \n",
      "____________________________________________________________________________________________________\n",
      "res5b_branch2a (Conv2D)          (None, None, None, 51 1049088     activation_47[0][0]              \n",
      "____________________________________________________________________________________________________\n",
      "bn5b_branch2a (BatchNormalizatio (None, None, None, 51 2048        res5b_branch2a[0][0]             \n",
      "____________________________________________________________________________________________________\n",
      "activation_48 (Activation)       (None, None, None, 51 0           bn5b_branch2a[0][0]              \n",
      "____________________________________________________________________________________________________\n",
      "res5b_branch2b (Conv2D)          (None, None, None, 51 2359808     activation_48[0][0]              \n",
      "____________________________________________________________________________________________________\n",
      "bn5b_branch2b (BatchNormalizatio (None, None, None, 51 2048        res5b_branch2b[0][0]             \n",
      "____________________________________________________________________________________________________\n",
      "activation_49 (Activation)       (None, None, None, 51 0           bn5b_branch2b[0][0]              \n",
      "____________________________________________________________________________________________________\n",
      "res5b_branch2c (Conv2D)          (None, None, None, 20 1050624     activation_49[0][0]              \n",
      "____________________________________________________________________________________________________\n",
      "bn5b_branch2c (BatchNormalizatio (None, None, None, 20 8192        res5b_branch2c[0][0]             \n",
      "____________________________________________________________________________________________________\n",
      "add_15 (Add)                     (None, None, None, 20 0           bn5b_branch2c[0][0]              \n",
      "                                                                   activation_47[0][0]              \n",
      "____________________________________________________________________________________________________\n",
      "activation_50 (Activation)       (None, None, None, 20 0           add_15[0][0]                     \n",
      "____________________________________________________________________________________________________\n",
      "res5c_branch2a (Conv2D)          (None, None, None, 51 1049088     activation_50[0][0]              \n",
      "____________________________________________________________________________________________________\n",
      "bn5c_branch2a (BatchNormalizatio (None, None, None, 51 2048        res5c_branch2a[0][0]             \n",
      "____________________________________________________________________________________________________\n",
      "activation_51 (Activation)       (None, None, None, 51 0           bn5c_branch2a[0][0]              \n",
      "____________________________________________________________________________________________________\n",
      "res5c_branch2b (Conv2D)          (None, None, None, 51 2359808     activation_51[0][0]              \n",
      "____________________________________________________________________________________________________\n",
      "bn5c_branch2b (BatchNormalizatio (None, None, None, 51 2048        res5c_branch2b[0][0]             \n",
      "____________________________________________________________________________________________________\n",
      "activation_52 (Activation)       (None, None, None, 51 0           bn5c_branch2b[0][0]              \n",
      "____________________________________________________________________________________________________\n",
      "res5c_branch2c (Conv2D)          (None, None, None, 20 1050624     activation_52[0][0]              \n",
      "____________________________________________________________________________________________________\n",
      "bn5c_branch2c (BatchNormalizatio (None, None, None, 20 8192        res5c_branch2c[0][0]             \n",
      "____________________________________________________________________________________________________\n",
      "add_16 (Add)                     (None, None, None, 20 0           bn5c_branch2c[0][0]              \n",
      "                                                                   activation_50[0][0]              \n",
      "____________________________________________________________________________________________________\n",
      "activation_53 (Activation)       (None, None, None, 20 0           add_16[0][0]                     \n",
      "____________________________________________________________________________________________________\n",
      "avg_pool (AveragePooling2D)      (None, None, None, 20 0           activation_53[0][0]              \n",
      "====================================================================================================\n",
      "Total params: 23,587,712\n",
      "Trainable params: 23,534,592\n",
      "Non-trainable params: 53,120\n",
      "____________________________________________________________________________________________________\n"
     ]
    }
   ],
   "source": [
    "from keras.applications.resnet50 import ResNet50\n",
    "\n",
    "# https://keras.io/applications/#resnet50\n",
    "# NOT include the fully-connected layer at the top of the network.\n",
    "model = ResNet50(include_top=False)\n",
    "\n",
    "model.summary()"
   ]
  },
  {
   "cell_type": "code",
   "execution_count": 25,
   "metadata": {
    "collapsed": false
   },
   "outputs": [],
   "source": [
    "del bottleneck_features_train, bottleneck_features_valid\n",
    "\n",
    "#bottleneck_features_train = []\n",
    "#for img_path in tqdm(train_files):\n",
    "#    tensor = path_to_tensor(img_path)\n",
    "#    tensor = np.vstack(tensor).astype('float32')/255\n",
    "#    bottleneck_features_train.append(model.predict(np.expand_dims(tensor, axis=0))[0])\n",
    "#bottleneck_features_train = np.asarray(bottleneck_features_train, dtype=np.float32)\n",
    "\n",
    "bottleneck_features_train = \\\n",
    "        np.asarray([model.predict(np.expand_dims(train_tensor, axis=0))[0] for train_tensor in train_tensors], dtype=np.float32)\n",
    "\n",
    "np.save(open('bottleneck_features/driver_ResNet50_train.npy', 'wb'), bottleneck_features_train)\n",
    "\n",
    "bottleneck_features_train = np.load('bottleneck_features/driver_ResNet50_train.npy')\n",
    "\n",
    "\n",
    "\n",
    "#bottleneck_features_valid = []\n",
    "#for img_path in tqdm(valid_files):\n",
    "#    tensor = path_to_tensor(img_path)\n",
    "#    tensor = np.vstack(tensor).astype('float32')/255\n",
    "#    bottleneck_features_valid.append(model.predict(np.expand_dims(tensor, axis=0))[0])\n",
    "#bottleneck_features_valid = np.asarray(bottleneck_features_valid, dtype=np.float32)\n",
    "\n",
    "bottleneck_features_valid = \\\n",
    "        np.asarray([model.predict(np.expand_dims(valid_tensor, axis=0))[0] for valid_tensor in valid_tensors], dtype=np.float32)\n",
    "\n",
    "np.save(open('bottleneck_features/driver_ResNet50_valid.npy', 'wb'), bottleneck_features_valid)\n",
    "\n",
    "bottleneck_features_valid = np.load('bottleneck_features/driver_ResNet50_valid.npy')"
   ]
  },
  {
   "cell_type": "code",
   "execution_count": 28,
   "metadata": {
    "collapsed": false
   },
   "outputs": [],
   "source": [
    "# bottleneck_features_train = np.load('bottleneck_features/driver_ResNet50_train.npy')\n",
    "# bottleneck_features_valid = np.load('bottleneck_features/driver_ResNet50_valid.npy')"
   ]
  },
  {
   "cell_type": "markdown",
   "metadata": {},
   "source": [
    "### Model Architecture"
   ]
  },
  {
   "cell_type": "code",
   "execution_count": 29,
   "metadata": {
    "collapsed": false
   },
   "outputs": [
    {
     "name": "stdout",
     "output_type": "stream",
     "text": [
      "_________________________________________________________________\n",
      "Layer (type)                 Output Shape              Param #   \n",
      "=================================================================\n",
      "global_average_pooling2d_3 ( (None, 2048)              0         \n",
      "_________________________________________________________________\n",
      "dense_5 (Dense)              (None, 64)                131136    \n",
      "_________________________________________________________________\n",
      "batch_normalization_8 (Batch (None, 64)                256       \n",
      "_________________________________________________________________\n",
      "activation_54 (Activation)   (None, 64)                0         \n",
      "_________________________________________________________________\n",
      "dropout_6 (Dropout)          (None, 64)                0         \n",
      "_________________________________________________________________\n",
      "dense_6 (Dense)              (None, 10)                650       \n",
      "_________________________________________________________________\n",
      "batch_normalization_9 (Batch (None, 10)                40        \n",
      "_________________________________________________________________\n",
      "activation_55 (Activation)   (None, 10)                0         \n",
      "=================================================================\n",
      "Total params: 132,082\n",
      "Trainable params: 131,934\n",
      "Non-trainable params: 148\n",
      "_________________________________________________________________\n"
     ]
    }
   ],
   "source": [
    "ResNet50_model = Sequential()\n",
    "\n",
    "ResNet50_model.add(GlobalAveragePooling2D(input_shape=bottleneck_features_train.shape[1:]))\n",
    "\n",
    "ResNet50_model.add(Dense(64))\n",
    "ResNet50_model.add(BatchNormalization())\n",
    "ResNet50_model.add(Activation('relu'))\n",
    "ResNet50_model.add(Dropout(0.2))\n",
    "\n",
    "ResNet50_model.add(Dense(10))\n",
    "ResNet50_model.add(BatchNormalization())\n",
    "ResNet50_model.add(Activation('softmax'))\n",
    "\n",
    "ResNet50_model.summary()"
   ]
  },
  {
   "cell_type": "markdown",
   "metadata": {},
   "source": [
    "### Compile the Model"
   ]
  },
  {
   "cell_type": "code",
   "execution_count": 30,
   "metadata": {
    "collapsed": true
   },
   "outputs": [],
   "source": [
    "ResNet50_model.compile(loss='categorical_crossentropy', optimizer='rmsprop', metrics=['accuracy'])"
   ]
  },
  {
   "cell_type": "markdown",
   "metadata": {},
   "source": [
    "### Train the Model"
   ]
  },
  {
   "cell_type": "code",
   "execution_count": 31,
   "metadata": {
    "collapsed": false
   },
   "outputs": [
    {
     "name": "stdout",
     "output_type": "stream",
     "text": [
      "Train on 179 samples, validate on 45 samples\n",
      "Epoch 1/20\n",
      "140/179 [======================>.......] - ETA: 0s - loss: 2.5513 - acc: 0.0929Epoch 00000: val_loss improved from inf to 2.89518, saving model to saved_models/weights.best.ResNet50.hdf5\n",
      "179/179 [==============================] - 1s - loss: 2.4942 - acc: 0.1061 - val_loss: 2.8952 - val_acc: 0.1111\n",
      "Epoch 2/20\n",
      "120/179 [===================>..........] - ETA: 0s - loss: 1.9829 - acc: 0.3417Epoch 00001: val_loss improved from 2.89518 to 2.76671, saving model to saved_models/weights.best.ResNet50.hdf5\n",
      "179/179 [==============================] - 0s - loss: 1.9775 - acc: 0.3520 - val_loss: 2.7667 - val_acc: 0.1111\n",
      "Epoch 3/20\n",
      "160/179 [=========================>....] - ETA: 0s - loss: 1.7655 - acc: 0.4125Epoch 00002: val_loss improved from 2.76671 to 2.74642, saving model to saved_models/weights.best.ResNet50.hdf5\n",
      "179/179 [==============================] - 0s - loss: 1.7475 - acc: 0.4190 - val_loss: 2.7464 - val_acc: 0.1111\n",
      "Epoch 4/20\n",
      "120/179 [===================>..........] - ETA: 0s - loss: 1.5604 - acc: 0.5000Epoch 00003: val_loss did not improve\n",
      "179/179 [==============================] - 0s - loss: 1.5813 - acc: 0.4581 - val_loss: 2.7688 - val_acc: 0.1111\n",
      "Epoch 5/20\n",
      "120/179 [===================>..........] - ETA: 0s - loss: 1.5421 - acc: 0.5167Epoch 00004: val_loss improved from 2.74642 to 2.70262, saving model to saved_models/weights.best.ResNet50.hdf5\n",
      "179/179 [==============================] - 0s - loss: 1.5211 - acc: 0.5028 - val_loss: 2.7026 - val_acc: 0.1111\n",
      "Epoch 6/20\n",
      " 80/179 [============>.................] - ETA: 0s - loss: 1.4281 - acc: 0.5875Epoch 00005: val_loss did not improve\n",
      "179/179 [==============================] - 0s - loss: 1.4217 - acc: 0.5698 - val_loss: 2.7382 - val_acc: 0.1111\n",
      "Epoch 7/20\n",
      " 20/179 [==>...........................] - ETA: 0s - loss: 1.6347 - acc: 0.4500Epoch 00006: val_loss improved from 2.70262 to 2.65571, saving model to saved_models/weights.best.ResNet50.hdf5\n",
      "179/179 [==============================] - 0s - loss: 1.3448 - acc: 0.6201 - val_loss: 2.6557 - val_acc: 0.1111\n",
      "Epoch 8/20\n",
      "140/179 [======================>.......] - ETA: 0s - loss: 1.1761 - acc: 0.7143Epoch 00007: val_loss improved from 2.65571 to 2.49947, saving model to saved_models/weights.best.ResNet50.hdf5\n",
      "179/179 [==============================] - 0s - loss: 1.1741 - acc: 0.7151 - val_loss: 2.4995 - val_acc: 0.1111\n",
      "Epoch 9/20\n",
      "140/179 [======================>.......] - ETA: 0s - loss: 1.1789 - acc: 0.6714Epoch 00008: val_loss improved from 2.49947 to 2.46399, saving model to saved_models/weights.best.ResNet50.hdf5\n",
      "179/179 [==============================] - 0s - loss: 1.1952 - acc: 0.6927 - val_loss: 2.4640 - val_acc: 0.1111\n",
      "Epoch 10/20\n",
      "140/179 [======================>.......] - ETA: 0s - loss: 1.1797 - acc: 0.7429Epoch 00009: val_loss did not improve\n",
      "179/179 [==============================] - 0s - loss: 1.1435 - acc: 0.7598 - val_loss: 2.5596 - val_acc: 0.1111\n",
      "Epoch 11/20\n",
      "160/179 [=========================>....] - ETA: 0s - loss: 1.0704 - acc: 0.7938Epoch 00010: val_loss did not improve\n",
      "179/179 [==============================] - 0s - loss: 1.0789 - acc: 0.7877 - val_loss: 2.4777 - val_acc: 0.2000\n",
      "Epoch 12/20\n",
      "160/179 [=========================>....] - ETA: 0s - loss: 1.0182 - acc: 0.8000Epoch 00011: val_loss improved from 2.46399 to 2.35655, saving model to saved_models/weights.best.ResNet50.hdf5\n",
      "179/179 [==============================] - 0s - loss: 1.0484 - acc: 0.7821 - val_loss: 2.3566 - val_acc: 0.2444\n",
      "Epoch 13/20\n",
      "120/179 [===================>..........] - ETA: 0s - loss: 0.9679 - acc: 0.7917Epoch 00012: val_loss did not improve\n",
      "179/179 [==============================] - 0s - loss: 0.9702 - acc: 0.8212 - val_loss: 2.3852 - val_acc: 0.1556\n",
      "Epoch 14/20\n",
      "140/179 [======================>.......] - ETA: 0s - loss: 0.9334 - acc: 0.8643Epoch 00013: val_loss did not improve\n",
      "179/179 [==============================] - 0s - loss: 0.9266 - acc: 0.8659 - val_loss: 2.3680 - val_acc: 0.1556\n",
      "Epoch 15/20\n",
      "140/179 [======================>.......] - ETA: 0s - loss: 0.9170 - acc: 0.8571Epoch 00014: val_loss improved from 2.35655 to 2.33591, saving model to saved_models/weights.best.ResNet50.hdf5\n",
      "179/179 [==============================] - 0s - loss: 0.9104 - acc: 0.8603 - val_loss: 2.3359 - val_acc: 0.1778\n",
      "Epoch 16/20\n",
      "100/179 [===============>..............] - ETA: 0s - loss: 0.8147 - acc: 0.9400Epoch 00015: val_loss improved from 2.33591 to 2.27969, saving model to saved_models/weights.best.ResNet50.hdf5\n",
      "179/179 [==============================] - 0s - loss: 0.8998 - acc: 0.8659 - val_loss: 2.2797 - val_acc: 0.1111\n",
      "Epoch 17/20\n",
      "100/179 [===============>..............] - ETA: 0s - loss: 0.9498 - acc: 0.8200Epoch 00016: val_loss improved from 2.27969 to 2.27868, saving model to saved_models/weights.best.ResNet50.hdf5\n",
      "179/179 [==============================] - 0s - loss: 0.9459 - acc: 0.8156 - val_loss: 2.2787 - val_acc: 0.2222\n",
      "Epoch 18/20\n",
      " 20/179 [==>...........................] - ETA: 0s - loss: 0.8127 - acc: 0.8500Epoch 00017: val_loss did not improve\n",
      "179/179 [==============================] - 0s - loss: 0.8265 - acc: 0.8771 - val_loss: 2.3637 - val_acc: 0.0667\n",
      "Epoch 19/20\n",
      " 20/179 [==>...........................] - ETA: 0s - loss: 0.9271 - acc: 0.8500Epoch 00018: val_loss improved from 2.27868 to 2.24222, saving model to saved_models/weights.best.ResNet50.hdf5\n",
      "179/179 [==============================] - 0s - loss: 0.8401 - acc: 0.8603 - val_loss: 2.2422 - val_acc: 0.1778\n",
      "Epoch 20/20\n",
      "140/179 [======================>.......] - ETA: 0s - loss: 0.8354 - acc: 0.8643Epoch 00019: val_loss did not improve\n",
      "179/179 [==============================] - 0s - loss: 0.8345 - acc: 0.8659 - val_loss: 2.2607 - val_acc: 0.2889\n"
     ]
    },
    {
     "data": {
      "text/plain": [
       "<keras.callbacks.History at 0x27c6255ffd0>"
      ]
     },
     "execution_count": 31,
     "metadata": {},
     "output_type": "execute_result"
    }
   ],
   "source": [
    "checkpointer = ModelCheckpoint(filepath='saved_models/weights.best.ResNet50.hdf5', \n",
    "                               verbose=1, save_best_only=True)\n",
    "\n",
    "ResNet50_model.fit(bottleneck_features_train, train_targets, \n",
    "                   validation_data=(bottleneck_features_valid, valid_targets),\n",
    "                   epochs=20, batch_size=20, callbacks=[checkpointer], verbose=1)"
   ]
  },
  {
   "cell_type": "markdown",
   "metadata": {},
   "source": [
    "### Load the Model with the Best Validation Loss"
   ]
  },
  {
   "cell_type": "code",
   "execution_count": 32,
   "metadata": {
    "collapsed": true
   },
   "outputs": [],
   "source": [
    "ResNet50_model.load_weights('saved_models/weights.best.ResNet50.hdf5')"
   ]
  },
  {
   "cell_type": "markdown",
   "metadata": {},
   "source": [
    "### Test the Model\n",
    "\n",
    "In the code cell below, we test our CNN model using transfer learning of ResNet50 on the testing data set of driver images. The prediction probability results of all the test images are written into the csv file: **CNN_ResNet50_test_probability.csv**, following the submission format defined by Kaggle.\n",
    "\n",
    "**The score (evaluation metrics: logarithmic loss function) of our CNN model using transfer learning of ResNet50 is .**\n",
    "\n",
    "**The test result of our CNN model using transfer learning of ResNet50 is ranked    out of 1440 in public leader board.**"
   ]
  },
  {
   "cell_type": "code",
   "execution_count": 33,
   "metadata": {
    "collapsed": false
   },
   "outputs": [
    {
     "name": "stderr",
     "output_type": "stream",
     "text": [
      "100%|██████████████████████████████████████████████████████████████████████████████████| 45/45 [00:57<00:00,  1.22s/it]\n"
     ]
    }
   ],
   "source": [
    "driver_behavior_predictions = []\n",
    "for test_file in tqdm(input_test_files):\n",
    "    test_tensor = path_to_tensor(test_file)\n",
    "    test_tensor = np.vstack(test_tensor).astype('float32')/255\n",
    "    test_bottleneck_feature = model.predict(np.expand_dims(test_tensor, axis=0))[0]\n",
    "    driver_behavior_predictions.append(ResNet50_model.predict(np.expand_dims(test_bottleneck_feature, axis=0))[0])\n",
    "\n",
    "test_image_probability_csv = np.column_stack((np.asarray(test_image_filename_list), \\\n",
    "                                              np.asarray(driver_behavior_predictions, dtype=np.float32)))\n",
    "\n",
    "np.savetxt('submission/CNN_ResNet50_test_probability.csv', test_image_probability_csv, delimiter=',', \\\n",
    "           comments='', newline='\\n', fmt='%s', header='img,c0,c1,c2,c3,c4,c5,c6,c7,c8,c9')\n",
    "\n",
    "# get index of predicted dog breed for each image in test set\n",
    "#VGG16_predictions = [np.argmax(VGG16_model.predict(np.expand_dims(feature, axis=0))) for feature in test_VGG16]\n",
    "\n",
    "# report test accuracy\n",
    "#test_accuracy = 100*np.sum(np.array(VGG16_predictions)==np.argmax(test_targets, axis=1))/len(VGG16_predictions)\n",
    "#print('Test accuracy: %.4f%%' % test_accuracy)"
   ]
  },
  {
   "cell_type": "code",
   "execution_count": 34,
   "metadata": {
    "collapsed": true
   },
   "outputs": [],
   "source": [
    "#def Resnet50_predict_breed(img_path):\n",
    "#    # extract bottleneck features\n",
    "#    # VGG19, Resnet50, InceptionV3, or Xception\n",
    "#    bottleneck_feature = extract_Resnet50(path_to_tensor(img_path))\n",
    "#    # obtain predicted vector\n",
    "#    predicted_vector = Resnet50_model.predict(bottleneck_feature)\n",
    "#    # return dog breed that is predicted by the model\n",
    "#    return dog_names[np.argmax(predicted_vector)]"
   ]
  },
  {
   "cell_type": "markdown",
   "metadata": {},
   "source": [
    "---\n",
    "<a id='step5'></a>\n",
    "## Step 5: Algorithm test result\n",
    "\n",
    "We choose the best result (the lowest score of the evaluation metric of log-loss error function) among the CNN models we\n",
    "construct above to be the final output of our proposed algorithm.\n",
    "\n",
    "**The CNN model we construct above with the lowest score of log-loss function is:  , and this CNN model has the score of  .**"
   ]
  },
  {
   "cell_type": "code",
   "execution_count": null,
   "metadata": {
    "collapsed": true
   },
   "outputs": [],
   "source": []
  }
 ],
 "metadata": {
  "anaconda-cloud": {},
  "kernelspec": {
   "display_name": "Python [default]",
   "language": "python",
   "name": "python3"
  },
  "language_info": {
   "codemirror_mode": {
    "name": "ipython",
    "version": 3
   },
   "file_extension": ".py",
   "mimetype": "text/x-python",
   "name": "python",
   "nbconvert_exporter": "python",
   "pygments_lexer": "ipython3",
   "version": "3.5.2"
  }
 },
 "nbformat": 4,
 "nbformat_minor": 1
}
